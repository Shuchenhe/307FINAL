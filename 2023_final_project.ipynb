{
  "cells": [
    {
      "cell_type": "markdown",
      "metadata": {
        "id": "view-in-github",
        "colab_type": "text"
      },
      "source": [
        "<a href=\"https://colab.research.google.com/github/Shuchenhe/307FINAL/blob/main/2023_final_project.ipynb\" target=\"_parent\"><img src=\"https://colab.research.google.com/assets/colab-badge.svg\" alt=\"Open In Colab\"/></a>"
      ]
    },
    {
      "cell_type": "markdown",
      "id": "0cde7904",
      "metadata": {
        "id": "0cde7904"
      },
      "source": [
        "# 2023 Spring ORF307 Final Project\n",
        "\n",
        "Instructor: B. Stellato\n",
        "\n",
        "AIs: I. Wang, V. Ranjan, S. Clarke, J. Ge\n",
        "\n",
        "\n",
        "---\n",
        "\n",
        "\n",
        "## Instructions\n",
        "\n",
        "**Exam files**: the exam files are available to download at [this link.](https://www.dropbox.com/sh/yrg048z0bf4r79u/AADyT6nduBgfebH1tPaNGxPxa?dl=0)\n",
        "\n",
        "**Date and time:** from May 12, 2023 at 00:01am to May 17, 2023 at 11:59pm.\n",
        "\n",
        "- Total time after download: 24 hours. No late submissions allowed.\n",
        "\n",
        "\n",
        "<!-- **Exercises:** there are 4 problems worth a total of 100 points. -->\n",
        "\n",
        "## Exam rules\n",
        "\n",
        "- You are allowed to use all course materials on the midterm (lecture notes, books, precept materials, code, and homeworks). But you cannot use internet to search for answers.\n",
        "\n",
        "- You have to justify all your answers. If you use code from the course materials, you have to explain what each step means.\n",
        "\n",
        "- You cannot communicate with anyone during the exam.\n",
        "\n",
        "- No late submissions allowed. Make sure your submission goes through on time. You can resubmit as many times as you like until your time expires.\n",
        "\n",
        "- The exam is to be submitted electronically on Gradescope before 11:59pm on the final day. Please follow the [\\texttt{Gradescope guide}](https://gradescope-static-assets.s3-us-west-2.amazonaws.com/help/submitting_hw_guide.pdf) upload the PDF version of your exam.\n",
        "\n",
        "---"
      ]
    },
    {
      "cell_type": "markdown",
      "source": [
        "$Honor \\hspace{0.5cm} Code$\n",
        "\n",
        "I pledge my honor that I do not violate the University Honor Code during the exam\n",
        "\n",
        "/s/ Shuchen He"
      ],
      "metadata": {
        "id": "IAXMhh8uttFV"
      },
      "id": "IAXMhh8uttFV"
    },
    {
      "cell_type": "code",
      "source": [
        "# Install required packages\n",
        "!apt-get install texlive texlive-xetex texlive-latex-extra pandoc cm-super dvipng\n",
        "!pip install pypandoc\n",
        "# Mount Google Drive\n",
        "from google.colab import drive\n",
        "drive.mount('/content/drive')"
      ],
      "metadata": {
        "colab": {
          "base_uri": "https://localhost:8080/"
        },
        "id": "REv6zYh-2ZVl",
        "outputId": "a5c04eea-97b6-46fa-835a-ff5e43d2cf59"
      },
      "id": "REv6zYh-2ZVl",
      "execution_count": 238,
      "outputs": [
        {
          "output_type": "stream",
          "name": "stdout",
          "text": [
            "Reading package lists... Done\n",
            "Building dependency tree       \n",
            "Reading state information... Done\n",
            "pandoc is already the newest version (2.5-3build2).\n",
            "pandoc set to manually installed.\n",
            "The following additional packages will be installed:\n",
            "  cm-super-minimal dvisvgm fonts-droid-fallback fonts-lato fonts-lmodern\n",
            "  fonts-noto-mono fonts-texgyre fonts-urw-base35 ghostscript javascript-common\n",
            "  libapache-pom-java libcommons-logging-java libcommons-parent-java\n",
            "  libfontbox-java libfontenc1 libgs9 libgs9-common libharfbuzz-icu0 libidn11\n",
            "  libijs-0.35 libjbig2dec0 libjs-jquery libkpathsea6 libpdfbox-java\n",
            "  libptexenc1 libruby2.7 libsynctex2 libteckit0 libtexlua53 libtexluajit2\n",
            "  libwoff1 libzzip-0-13 lmodern pfb2t1c2pfb poppler-data preview-latex-style\n",
            "  rake ruby ruby-minitest ruby-net-telnet ruby-power-assert ruby-test-unit\n",
            "  ruby-xmlrpc ruby2.7 rubygems-integration t1utils teckit tex-common tex-gyre\n",
            "  texlive-base texlive-binaries texlive-fonts-recommended texlive-latex-base\n",
            "  texlive-latex-recommended texlive-pictures texlive-plain-generic tipa\n",
            "  xfonts-encodings xfonts-utils\n",
            "Suggested packages:\n",
            "  fonts-noto fonts-freefont-otf | fonts-freefont-ttf ghostscript-x apache2\n",
            "  | lighttpd | httpd libavalon-framework-java libcommons-logging-java-doc\n",
            "  libexcalibur-logkit-java liblog4j1.2-java poppler-utils\n",
            "  fonts-japanese-mincho | fonts-ipafont-mincho fonts-japanese-gothic\n",
            "  | fonts-ipafont-gothic fonts-arphic-ukai fonts-arphic-uming fonts-nanum ri\n",
            "  ruby-dev bundler debhelper perl-tk xpdf | pdf-viewer xzdec\n",
            "  texlive-fonts-recommended-doc texlive-latex-base-doc python3-pygments\n",
            "  icc-profiles libfile-which-perl libspreadsheet-parseexcel-perl\n",
            "  texlive-latex-extra-doc texlive-latex-recommended-doc texlive-luatex\n",
            "  texlive-pstricks dot2tex prerex ruby-tcltk | libtcltk-ruby\n",
            "  texlive-pictures-doc vprerex default-jre-headless\n",
            "The following NEW packages will be installed:\n",
            "  cm-super cm-super-minimal dvipng dvisvgm fonts-droid-fallback fonts-lato\n",
            "  fonts-lmodern fonts-noto-mono fonts-texgyre fonts-urw-base35 ghostscript\n",
            "  javascript-common libapache-pom-java libcommons-logging-java\n",
            "  libcommons-parent-java libfontbox-java libfontenc1 libgs9 libgs9-common\n",
            "  libharfbuzz-icu0 libidn11 libijs-0.35 libjbig2dec0 libjs-jquery libkpathsea6\n",
            "  libpdfbox-java libptexenc1 libruby2.7 libsynctex2 libteckit0 libtexlua53\n",
            "  libtexluajit2 libwoff1 libzzip-0-13 lmodern pfb2t1c2pfb poppler-data\n",
            "  preview-latex-style rake ruby ruby-minitest ruby-net-telnet\n",
            "  ruby-power-assert ruby-test-unit ruby-xmlrpc ruby2.7 rubygems-integration\n",
            "  t1utils teckit tex-common tex-gyre texlive texlive-base texlive-binaries\n",
            "  texlive-fonts-recommended texlive-latex-base texlive-latex-extra\n",
            "  texlive-latex-recommended texlive-pictures texlive-plain-generic\n",
            "  texlive-xetex tipa xfonts-encodings xfonts-utils\n",
            "0 upgraded, 64 newly installed, 0 to remove and 24 not upgraded.\n",
            "Need to get 193 MB of archives.\n",
            "After this operation, 597 MB of additional disk space will be used.\n",
            "Get:1 http://archive.ubuntu.com/ubuntu focal/main amd64 fonts-droid-fallback all 1:6.0.1r16-1.1 [1,805 kB]\n",
            "Get:2 http://archive.ubuntu.com/ubuntu focal/main amd64 fonts-lato all 2.0-2 [2,698 kB]\n",
            "Get:3 http://archive.ubuntu.com/ubuntu focal/main amd64 poppler-data all 0.4.9-2 [1,475 kB]\n",
            "Get:4 http://archive.ubuntu.com/ubuntu focal/universe amd64 tex-common all 6.13 [32.7 kB]\n",
            "Get:5 http://archive.ubuntu.com/ubuntu focal/main amd64 libkpathsea6 amd64 2019.20190605.51237-3build2 [57.0 kB]\n",
            "Get:6 http://archive.ubuntu.com/ubuntu focal/main amd64 libptexenc1 amd64 2019.20190605.51237-3build2 [35.5 kB]\n",
            "Get:7 http://archive.ubuntu.com/ubuntu focal/main amd64 libsynctex2 amd64 2019.20190605.51237-3build2 [55.0 kB]\n",
            "Get:8 http://archive.ubuntu.com/ubuntu focal/main amd64 libtexlua53 amd64 2019.20190605.51237-3build2 [105 kB]\n",
            "Get:9 http://archive.ubuntu.com/ubuntu focal/main amd64 libtexluajit2 amd64 2019.20190605.51237-3build2 [235 kB]\n",
            "Get:10 http://archive.ubuntu.com/ubuntu focal/main amd64 t1utils amd64 1.41-3 [56.1 kB]\n",
            "Get:11 http://archive.ubuntu.com/ubuntu focal-updates/main amd64 libharfbuzz-icu0 amd64 2.6.4-1ubuntu4.2 [5,580 B]\n",
            "Get:12 http://archive.ubuntu.com/ubuntu focal/universe amd64 libteckit0 amd64 2.5.8+ds2-5ubuntu2 [320 kB]\n",
            "Get:13 http://archive.ubuntu.com/ubuntu focal/universe amd64 libzzip-0-13 amd64 0.13.62-3.2ubuntu1 [26.2 kB]\n",
            "Get:14 http://archive.ubuntu.com/ubuntu focal/universe amd64 texlive-binaries amd64 2019.20190605.51237-3build2 [8,041 kB]\n",
            "Get:15 http://archive.ubuntu.com/ubuntu focal/universe amd64 texlive-base all 2019.20200218-1 [20.8 MB]\n",
            "Get:16 http://archive.ubuntu.com/ubuntu focal/universe amd64 fonts-lmodern all 2.004.5-6 [4,532 kB]\n",
            "Get:17 http://archive.ubuntu.com/ubuntu focal/universe amd64 texlive-latex-base all 2019.20200218-1 [990 kB]\n",
            "Get:18 http://archive.ubuntu.com/ubuntu focal/universe amd64 texlive-latex-recommended all 2019.20200218-1 [15.7 MB]\n",
            "Get:19 http://archive.ubuntu.com/ubuntu focal/universe amd64 cm-super-minimal all 0.3.4-15 [5,811 kB]\n",
            "Get:20 http://archive.ubuntu.com/ubuntu focal/universe amd64 pfb2t1c2pfb amd64 0.3-11 [9,342 B]\n",
            "Get:21 http://archive.ubuntu.com/ubuntu focal/universe amd64 cm-super all 0.3.4-15 [18.7 MB]\n",
            "Get:22 http://archive.ubuntu.com/ubuntu focal/main amd64 fonts-urw-base35 all 20170801.1-3 [6,333 kB]\n",
            "Get:23 http://archive.ubuntu.com/ubuntu focal-updates/main amd64 libgs9-common all 9.50~dfsg-5ubuntu4.7 [681 kB]\n",
            "Get:24 http://archive.ubuntu.com/ubuntu focal/main amd64 libidn11 amd64 1.33-2.2ubuntu2 [46.2 kB]\n",
            "Get:25 http://archive.ubuntu.com/ubuntu focal/main amd64 libijs-0.35 amd64 0.35-15 [15.7 kB]\n",
            "Get:26 http://archive.ubuntu.com/ubuntu focal/main amd64 libjbig2dec0 amd64 0.18-1ubuntu1 [60.0 kB]\n",
            "Get:27 http://archive.ubuntu.com/ubuntu focal-updates/main amd64 libgs9 amd64 9.50~dfsg-5ubuntu4.7 [2,173 kB]\n",
            "Get:28 http://archive.ubuntu.com/ubuntu focal-updates/main amd64 ghostscript amd64 9.50~dfsg-5ubuntu4.7 [51.9 kB]\n",
            "Get:29 http://archive.ubuntu.com/ubuntu focal/universe amd64 dvipng amd64 1.15-1.1 [78.9 kB]\n",
            "Get:30 http://archive.ubuntu.com/ubuntu focal/main amd64 libwoff1 amd64 1.0.2-1build2 [42.0 kB]\n",
            "Get:31 http://archive.ubuntu.com/ubuntu focal/universe amd64 dvisvgm amd64 2.8.1-1build1 [1,048 kB]\n",
            "Get:32 http://archive.ubuntu.com/ubuntu focal-updates/main amd64 fonts-noto-mono all 20200323-1build1~ubuntu20.04.1 [80.6 kB]\n",
            "Get:33 http://archive.ubuntu.com/ubuntu focal/universe amd64 fonts-texgyre all 20180621-3 [10.2 MB]\n",
            "Get:34 http://archive.ubuntu.com/ubuntu focal/main amd64 javascript-common all 11 [6,066 B]\n",
            "Get:35 http://archive.ubuntu.com/ubuntu focal/universe amd64 libapache-pom-java all 18-1 [4,720 B]\n",
            "Get:36 http://archive.ubuntu.com/ubuntu focal/universe amd64 libcommons-parent-java all 43-1 [10.8 kB]\n",
            "Get:37 http://archive.ubuntu.com/ubuntu focal/universe amd64 libcommons-logging-java all 1.2-2 [60.3 kB]\n",
            "Get:38 http://archive.ubuntu.com/ubuntu focal/main amd64 libfontenc1 amd64 1:1.1.4-0ubuntu1 [14.0 kB]\n",
            "Get:39 http://archive.ubuntu.com/ubuntu focal/main amd64 libjs-jquery all 3.3.1~dfsg-3 [329 kB]\n",
            "Get:40 http://archive.ubuntu.com/ubuntu focal/main amd64 rubygems-integration all 1.16 [5,092 B]\n",
            "Get:41 http://archive.ubuntu.com/ubuntu focal-updates/main amd64 ruby2.7 amd64 2.7.0-5ubuntu1.10 [95.6 kB]\n",
            "Get:42 http://archive.ubuntu.com/ubuntu focal/main amd64 ruby amd64 1:2.7+1 [5,412 B]\n",
            "Get:43 http://archive.ubuntu.com/ubuntu focal/main amd64 rake all 13.0.1-4 [61.6 kB]\n",
            "Get:44 http://archive.ubuntu.com/ubuntu focal/main amd64 ruby-minitest all 5.13.0-1 [40.9 kB]\n",
            "Get:45 http://archive.ubuntu.com/ubuntu focal/main amd64 ruby-net-telnet all 0.1.1-2 [12.6 kB]\n",
            "Get:46 http://archive.ubuntu.com/ubuntu focal/main amd64 ruby-power-assert all 1.1.7-1 [11.4 kB]\n",
            "Get:47 http://archive.ubuntu.com/ubuntu focal/main amd64 ruby-test-unit all 3.3.5-1 [73.2 kB]\n",
            "Get:48 http://archive.ubuntu.com/ubuntu focal/main amd64 ruby-xmlrpc all 0.3.0-2 [23.8 kB]\n",
            "Get:49 http://archive.ubuntu.com/ubuntu focal-updates/main amd64 libruby2.7 amd64 2.7.0-5ubuntu1.10 [3,532 kB]\n",
            "Get:50 http://archive.ubuntu.com/ubuntu focal/main amd64 xfonts-encodings all 1:1.0.5-0ubuntu1 [573 kB]\n",
            "Get:51 http://archive.ubuntu.com/ubuntu focal/main amd64 xfonts-utils amd64 1:7.7+6 [91.5 kB]\n",
            "Get:52 http://archive.ubuntu.com/ubuntu focal/universe amd64 lmodern all 2.004.5-6 [9,474 kB]\n",
            "Get:53 http://archive.ubuntu.com/ubuntu focal/universe amd64 preview-latex-style all 11.91-2ubuntu2 [184 kB]\n",
            "Get:54 http://archive.ubuntu.com/ubuntu focal/universe amd64 teckit amd64 2.5.8+ds2-5ubuntu2 [687 kB]\n",
            "Get:55 http://archive.ubuntu.com/ubuntu focal/universe amd64 tex-gyre all 20180621-3 [6,209 kB]\n",
            "Get:56 http://archive.ubuntu.com/ubuntu focal/universe amd64 texlive-fonts-recommended all 2019.20200218-1 [4,972 kB]\n",
            "Get:57 http://archive.ubuntu.com/ubuntu focal/universe amd64 texlive all 2019.20200218-1 [14.4 kB]\n",
            "Get:58 http://archive.ubuntu.com/ubuntu focal/universe amd64 libfontbox-java all 1:1.8.16-2 [207 kB]\n",
            "Get:59 http://archive.ubuntu.com/ubuntu focal/universe amd64 libpdfbox-java all 1:1.8.16-2 [5,199 kB]\n",
            "Get:60 http://archive.ubuntu.com/ubuntu focal/universe amd64 texlive-pictures all 2019.20200218-1 [4,492 kB]\n",
            "Get:61 http://archive.ubuntu.com/ubuntu focal/universe amd64 texlive-latex-extra all 2019.202000218-1 [12.5 MB]\n",
            "Get:62 http://archive.ubuntu.com/ubuntu focal/universe amd64 texlive-plain-generic all 2019.202000218-1 [24.6 MB]\n",
            "Get:63 http://archive.ubuntu.com/ubuntu focal/universe amd64 tipa all 2:1.3-20 [2,978 kB]\n",
            "Get:64 http://archive.ubuntu.com/ubuntu focal/universe amd64 texlive-xetex all 2019.20200218-1 [14.6 MB]\n",
            "Fetched 193 MB in 9s (21.4 MB/s)\n",
            "Extracting templates from packages: 100%\n",
            "Preconfiguring packages ...\n",
            "Selecting previously unselected package fonts-droid-fallback.\n",
            "(Reading database ... 122531 files and directories currently installed.)\n",
            "Preparing to unpack .../00-fonts-droid-fallback_1%3a6.0.1r16-1.1_all.deb ...\n",
            "Unpacking fonts-droid-fallback (1:6.0.1r16-1.1) ...\n",
            "Selecting previously unselected package fonts-lato.\n",
            "Preparing to unpack .../01-fonts-lato_2.0-2_all.deb ...\n",
            "Unpacking fonts-lato (2.0-2) ...\n",
            "Selecting previously unselected package poppler-data.\n",
            "Preparing to unpack .../02-poppler-data_0.4.9-2_all.deb ...\n",
            "Unpacking poppler-data (0.4.9-2) ...\n",
            "Selecting previously unselected package tex-common.\n",
            "Preparing to unpack .../03-tex-common_6.13_all.deb ...\n",
            "Unpacking tex-common (6.13) ...\n",
            "Selecting previously unselected package libkpathsea6:amd64.\n",
            "Preparing to unpack .../04-libkpathsea6_2019.20190605.51237-3build2_amd64.deb ...\n",
            "Unpacking libkpathsea6:amd64 (2019.20190605.51237-3build2) ...\n",
            "Selecting previously unselected package libptexenc1:amd64.\n",
            "Preparing to unpack .../05-libptexenc1_2019.20190605.51237-3build2_amd64.deb ...\n",
            "Unpacking libptexenc1:amd64 (2019.20190605.51237-3build2) ...\n",
            "Selecting previously unselected package libsynctex2:amd64.\n",
            "Preparing to unpack .../06-libsynctex2_2019.20190605.51237-3build2_amd64.deb ...\n",
            "Unpacking libsynctex2:amd64 (2019.20190605.51237-3build2) ...\n",
            "Selecting previously unselected package libtexlua53:amd64.\n",
            "Preparing to unpack .../07-libtexlua53_2019.20190605.51237-3build2_amd64.deb ...\n",
            "Unpacking libtexlua53:amd64 (2019.20190605.51237-3build2) ...\n",
            "Selecting previously unselected package libtexluajit2:amd64.\n",
            "Preparing to unpack .../08-libtexluajit2_2019.20190605.51237-3build2_amd64.deb ...\n",
            "Unpacking libtexluajit2:amd64 (2019.20190605.51237-3build2) ...\n",
            "Selecting previously unselected package t1utils.\n",
            "Preparing to unpack .../09-t1utils_1.41-3_amd64.deb ...\n",
            "Unpacking t1utils (1.41-3) ...\n",
            "Selecting previously unselected package libharfbuzz-icu0:amd64.\n",
            "Preparing to unpack .../10-libharfbuzz-icu0_2.6.4-1ubuntu4.2_amd64.deb ...\n",
            "Unpacking libharfbuzz-icu0:amd64 (2.6.4-1ubuntu4.2) ...\n",
            "Selecting previously unselected package libteckit0:amd64.\n",
            "Preparing to unpack .../11-libteckit0_2.5.8+ds2-5ubuntu2_amd64.deb ...\n",
            "Unpacking libteckit0:amd64 (2.5.8+ds2-5ubuntu2) ...\n",
            "Selecting previously unselected package libzzip-0-13:amd64.\n",
            "Preparing to unpack .../12-libzzip-0-13_0.13.62-3.2ubuntu1_amd64.deb ...\n",
            "Unpacking libzzip-0-13:amd64 (0.13.62-3.2ubuntu1) ...\n",
            "Selecting previously unselected package texlive-binaries.\n",
            "Preparing to unpack .../13-texlive-binaries_2019.20190605.51237-3build2_amd64.deb ...\n",
            "Unpacking texlive-binaries (2019.20190605.51237-3build2) ...\n",
            "Selecting previously unselected package texlive-base.\n",
            "Preparing to unpack .../14-texlive-base_2019.20200218-1_all.deb ...\n",
            "Unpacking texlive-base (2019.20200218-1) ...\n",
            "Selecting previously unselected package fonts-lmodern.\n",
            "Preparing to unpack .../15-fonts-lmodern_2.004.5-6_all.deb ...\n",
            "Unpacking fonts-lmodern (2.004.5-6) ...\n",
            "Selecting previously unselected package texlive-latex-base.\n",
            "Preparing to unpack .../16-texlive-latex-base_2019.20200218-1_all.deb ...\n",
            "Unpacking texlive-latex-base (2019.20200218-1) ...\n",
            "Selecting previously unselected package texlive-latex-recommended.\n",
            "Preparing to unpack .../17-texlive-latex-recommended_2019.20200218-1_all.deb ...\n",
            "Unpacking texlive-latex-recommended (2019.20200218-1) ...\n",
            "Selecting previously unselected package cm-super-minimal.\n",
            "Preparing to unpack .../18-cm-super-minimal_0.3.4-15_all.deb ...\n",
            "Unpacking cm-super-minimal (0.3.4-15) ...\n",
            "Selecting previously unselected package pfb2t1c2pfb.\n",
            "Preparing to unpack .../19-pfb2t1c2pfb_0.3-11_amd64.deb ...\n",
            "Unpacking pfb2t1c2pfb (0.3-11) ...\n",
            "Selecting previously unselected package cm-super.\n",
            "Preparing to unpack .../20-cm-super_0.3.4-15_all.deb ...\n",
            "Unpacking cm-super (0.3.4-15) ...\n",
            "Selecting previously unselected package fonts-urw-base35.\n",
            "Preparing to unpack .../21-fonts-urw-base35_20170801.1-3_all.deb ...\n",
            "Unpacking fonts-urw-base35 (20170801.1-3) ...\n",
            "Selecting previously unselected package libgs9-common.\n",
            "Preparing to unpack .../22-libgs9-common_9.50~dfsg-5ubuntu4.7_all.deb ...\n",
            "Unpacking libgs9-common (9.50~dfsg-5ubuntu4.7) ...\n",
            "Selecting previously unselected package libidn11:amd64.\n",
            "Preparing to unpack .../23-libidn11_1.33-2.2ubuntu2_amd64.deb ...\n",
            "Unpacking libidn11:amd64 (1.33-2.2ubuntu2) ...\n",
            "Selecting previously unselected package libijs-0.35:amd64.\n",
            "Preparing to unpack .../24-libijs-0.35_0.35-15_amd64.deb ...\n",
            "Unpacking libijs-0.35:amd64 (0.35-15) ...\n",
            "Selecting previously unselected package libjbig2dec0:amd64.\n",
            "Preparing to unpack .../25-libjbig2dec0_0.18-1ubuntu1_amd64.deb ...\n",
            "Unpacking libjbig2dec0:amd64 (0.18-1ubuntu1) ...\n",
            "Selecting previously unselected package libgs9:amd64.\n",
            "Preparing to unpack .../26-libgs9_9.50~dfsg-5ubuntu4.7_amd64.deb ...\n",
            "Unpacking libgs9:amd64 (9.50~dfsg-5ubuntu4.7) ...\n",
            "Selecting previously unselected package ghostscript.\n",
            "Preparing to unpack .../27-ghostscript_9.50~dfsg-5ubuntu4.7_amd64.deb ...\n",
            "Unpacking ghostscript (9.50~dfsg-5ubuntu4.7) ...\n",
            "Selecting previously unselected package dvipng.\n",
            "Preparing to unpack .../28-dvipng_1.15-1.1_amd64.deb ...\n",
            "Unpacking dvipng (1.15-1.1) ...\n",
            "Selecting previously unselected package libwoff1:amd64.\n",
            "Preparing to unpack .../29-libwoff1_1.0.2-1build2_amd64.deb ...\n",
            "Unpacking libwoff1:amd64 (1.0.2-1build2) ...\n",
            "Selecting previously unselected package dvisvgm.\n",
            "Preparing to unpack .../30-dvisvgm_2.8.1-1build1_amd64.deb ...\n",
            "Unpacking dvisvgm (2.8.1-1build1) ...\n",
            "Selecting previously unselected package fonts-noto-mono.\n",
            "Preparing to unpack .../31-fonts-noto-mono_20200323-1build1~ubuntu20.04.1_all.deb ...\n",
            "Unpacking fonts-noto-mono (20200323-1build1~ubuntu20.04.1) ...\n",
            "Selecting previously unselected package fonts-texgyre.\n",
            "Preparing to unpack .../32-fonts-texgyre_20180621-3_all.deb ...\n",
            "Unpacking fonts-texgyre (20180621-3) ...\n",
            "Selecting previously unselected package javascript-common.\n",
            "Preparing to unpack .../33-javascript-common_11_all.deb ...\n",
            "Unpacking javascript-common (11) ...\n",
            "Selecting previously unselected package libapache-pom-java.\n",
            "Preparing to unpack .../34-libapache-pom-java_18-1_all.deb ...\n",
            "Unpacking libapache-pom-java (18-1) ...\n",
            "Selecting previously unselected package libcommons-parent-java.\n",
            "Preparing to unpack .../35-libcommons-parent-java_43-1_all.deb ...\n",
            "Unpacking libcommons-parent-java (43-1) ...\n",
            "Selecting previously unselected package libcommons-logging-java.\n",
            "Preparing to unpack .../36-libcommons-logging-java_1.2-2_all.deb ...\n",
            "Unpacking libcommons-logging-java (1.2-2) ...\n",
            "Selecting previously unselected package libfontenc1:amd64.\n",
            "Preparing to unpack .../37-libfontenc1_1%3a1.1.4-0ubuntu1_amd64.deb ...\n",
            "Unpacking libfontenc1:amd64 (1:1.1.4-0ubuntu1) ...\n",
            "Selecting previously unselected package libjs-jquery.\n",
            "Preparing to unpack .../38-libjs-jquery_3.3.1~dfsg-3_all.deb ...\n",
            "Unpacking libjs-jquery (3.3.1~dfsg-3) ...\n",
            "Selecting previously unselected package rubygems-integration.\n",
            "Preparing to unpack .../39-rubygems-integration_1.16_all.deb ...\n",
            "Unpacking rubygems-integration (1.16) ...\n",
            "Selecting previously unselected package ruby2.7.\n",
            "Preparing to unpack .../40-ruby2.7_2.7.0-5ubuntu1.10_amd64.deb ...\n",
            "Unpacking ruby2.7 (2.7.0-5ubuntu1.10) ...\n",
            "Selecting previously unselected package ruby.\n",
            "Preparing to unpack .../41-ruby_1%3a2.7+1_amd64.deb ...\n",
            "Unpacking ruby (1:2.7+1) ...\n",
            "Selecting previously unselected package rake.\n",
            "Preparing to unpack .../42-rake_13.0.1-4_all.deb ...\n",
            "Unpacking rake (13.0.1-4) ...\n",
            "Selecting previously unselected package ruby-minitest.\n",
            "Preparing to unpack .../43-ruby-minitest_5.13.0-1_all.deb ...\n",
            "Unpacking ruby-minitest (5.13.0-1) ...\n",
            "Selecting previously unselected package ruby-net-telnet.\n",
            "Preparing to unpack .../44-ruby-net-telnet_0.1.1-2_all.deb ...\n",
            "Unpacking ruby-net-telnet (0.1.1-2) ...\n",
            "Selecting previously unselected package ruby-power-assert.\n",
            "Preparing to unpack .../45-ruby-power-assert_1.1.7-1_all.deb ...\n",
            "Unpacking ruby-power-assert (1.1.7-1) ...\n",
            "Selecting previously unselected package ruby-test-unit.\n",
            "Preparing to unpack .../46-ruby-test-unit_3.3.5-1_all.deb ...\n",
            "Unpacking ruby-test-unit (3.3.5-1) ...\n",
            "Selecting previously unselected package ruby-xmlrpc.\n",
            "Preparing to unpack .../47-ruby-xmlrpc_0.3.0-2_all.deb ...\n",
            "Unpacking ruby-xmlrpc (0.3.0-2) ...\n",
            "Selecting previously unselected package libruby2.7:amd64.\n",
            "Preparing to unpack .../48-libruby2.7_2.7.0-5ubuntu1.10_amd64.deb ...\n",
            "Unpacking libruby2.7:amd64 (2.7.0-5ubuntu1.10) ...\n",
            "Selecting previously unselected package xfonts-encodings.\n",
            "Preparing to unpack .../49-xfonts-encodings_1%3a1.0.5-0ubuntu1_all.deb ...\n",
            "Unpacking xfonts-encodings (1:1.0.5-0ubuntu1) ...\n",
            "Selecting previously unselected package xfonts-utils.\n",
            "Preparing to unpack .../50-xfonts-utils_1%3a7.7+6_amd64.deb ...\n",
            "Unpacking xfonts-utils (1:7.7+6) ...\n",
            "Selecting previously unselected package lmodern.\n",
            "Preparing to unpack .../51-lmodern_2.004.5-6_all.deb ...\n",
            "Unpacking lmodern (2.004.5-6) ...\n",
            "Selecting previously unselected package preview-latex-style.\n",
            "Preparing to unpack .../52-preview-latex-style_11.91-2ubuntu2_all.deb ...\n",
            "Unpacking preview-latex-style (11.91-2ubuntu2) ...\n",
            "Selecting previously unselected package teckit.\n",
            "Preparing to unpack .../53-teckit_2.5.8+ds2-5ubuntu2_amd64.deb ...\n",
            "Unpacking teckit (2.5.8+ds2-5ubuntu2) ...\n",
            "Selecting previously unselected package tex-gyre.\n",
            "Preparing to unpack .../54-tex-gyre_20180621-3_all.deb ...\n",
            "Unpacking tex-gyre (20180621-3) ...\n",
            "Selecting previously unselected package texlive-fonts-recommended.\n",
            "Preparing to unpack .../55-texlive-fonts-recommended_2019.20200218-1_all.deb ...\n",
            "Unpacking texlive-fonts-recommended (2019.20200218-1) ...\n",
            "Selecting previously unselected package texlive.\n",
            "Preparing to unpack .../56-texlive_2019.20200218-1_all.deb ...\n",
            "Unpacking texlive (2019.20200218-1) ...\n",
            "Selecting previously unselected package libfontbox-java.\n",
            "Preparing to unpack .../57-libfontbox-java_1%3a1.8.16-2_all.deb ...\n",
            "Unpacking libfontbox-java (1:1.8.16-2) ...\n",
            "Selecting previously unselected package libpdfbox-java.\n",
            "Preparing to unpack .../58-libpdfbox-java_1%3a1.8.16-2_all.deb ...\n",
            "Unpacking libpdfbox-java (1:1.8.16-2) ...\n",
            "Selecting previously unselected package texlive-pictures.\n",
            "Preparing to unpack .../59-texlive-pictures_2019.20200218-1_all.deb ...\n",
            "Unpacking texlive-pictures (2019.20200218-1) ...\n",
            "Selecting previously unselected package texlive-latex-extra.\n",
            "Preparing to unpack .../60-texlive-latex-extra_2019.202000218-1_all.deb ...\n",
            "Unpacking texlive-latex-extra (2019.202000218-1) ...\n",
            "Selecting previously unselected package texlive-plain-generic.\n",
            "Preparing to unpack .../61-texlive-plain-generic_2019.202000218-1_all.deb ...\n",
            "Unpacking texlive-plain-generic (2019.202000218-1) ...\n",
            "Selecting previously unselected package tipa.\n",
            "Preparing to unpack .../62-tipa_2%3a1.3-20_all.deb ...\n",
            "Unpacking tipa (2:1.3-20) ...\n",
            "Selecting previously unselected package texlive-xetex.\n",
            "Preparing to unpack .../63-texlive-xetex_2019.20200218-1_all.deb ...\n",
            "Unpacking texlive-xetex (2019.20200218-1) ...\n",
            "Setting up pfb2t1c2pfb (0.3-11) ...\n",
            "Setting up javascript-common (11) ...\n",
            "Setting up libharfbuzz-icu0:amd64 (2.6.4-1ubuntu4.2) ...\n",
            "Setting up fonts-lato (2.0-2) ...\n",
            "Setting up fonts-noto-mono (20200323-1build1~ubuntu20.04.1) ...\n",
            "Setting up libwoff1:amd64 (1.0.2-1build2) ...\n",
            "Setting up ruby-power-assert (1.1.7-1) ...\n",
            "Setting up libtexlua53:amd64 (2019.20190605.51237-3build2) ...\n",
            "Setting up libijs-0.35:amd64 (0.35-15) ...\n",
            "Setting up libtexluajit2:amd64 (2019.20190605.51237-3build2) ...\n",
            "Setting up libfontbox-java (1:1.8.16-2) ...\n",
            "Setting up rubygems-integration (1.16) ...\n",
            "Setting up libzzip-0-13:amd64 (0.13.62-3.2ubuntu1) ...\n",
            "Setting up fonts-urw-base35 (20170801.1-3) ...\n",
            "Setting up poppler-data (0.4.9-2) ...\n",
            "Setting up ruby-minitest (5.13.0-1) ...\n",
            "Setting up tex-common (6.13) ...\n",
            "update-language: texlive-base not installed and configured, doing nothing!\n",
            "Setting up libfontenc1:amd64 (1:1.1.4-0ubuntu1) ...\n",
            "Setting up ruby-test-unit (3.3.5-1) ...\n",
            "Setting up libjbig2dec0:amd64 (0.18-1ubuntu1) ...\n",
            "Setting up libidn11:amd64 (1.33-2.2ubuntu2) ...\n",
            "Setting up libteckit0:amd64 (2.5.8+ds2-5ubuntu2) ...\n",
            "Setting up libapache-pom-java (18-1) ...\n",
            "Setting up ruby-net-telnet (0.1.1-2) ...\n",
            "Setting up xfonts-encodings (1:1.0.5-0ubuntu1) ...\n",
            "Setting up t1utils (1.41-3) ...\n",
            "Setting up fonts-texgyre (20180621-3) ...\n",
            "Setting up libkpathsea6:amd64 (2019.20190605.51237-3build2) ...\n",
            "Setting up fonts-lmodern (2.004.5-6) ...\n",
            "Setting up fonts-droid-fallback (1:6.0.1r16-1.1) ...\n",
            "Setting up libjs-jquery (3.3.1~dfsg-3) ...\n",
            "Setting up ruby-xmlrpc (0.3.0-2) ...\n",
            "Setting up libsynctex2:amd64 (2019.20190605.51237-3build2) ...\n",
            "Setting up libgs9-common (9.50~dfsg-5ubuntu4.7) ...\n",
            "Setting up teckit (2.5.8+ds2-5ubuntu2) ...\n",
            "Setting up libpdfbox-java (1:1.8.16-2) ...\n",
            "Setting up libgs9:amd64 (9.50~dfsg-5ubuntu4.7) ...\n",
            "Setting up preview-latex-style (11.91-2ubuntu2) ...\n",
            "Setting up libcommons-parent-java (43-1) ...\n",
            "Setting up dvisvgm (2.8.1-1build1) ...\n",
            "Setting up libcommons-logging-java (1.2-2) ...\n",
            "Setting up ghostscript (9.50~dfsg-5ubuntu4.7) ...\n",
            "Setting up xfonts-utils (1:7.7+6) ...\n",
            "Setting up libptexenc1:amd64 (2019.20190605.51237-3build2) ...\n",
            "Setting up texlive-binaries (2019.20190605.51237-3build2) ...\n",
            "update-alternatives: using /usr/bin/xdvi-xaw to provide /usr/bin/xdvi.bin (xdvi.bin) in auto mode\n",
            "update-alternatives: using /usr/bin/bibtex.original to provide /usr/bin/bibtex (bibtex) in auto mode\n",
            "Setting up lmodern (2.004.5-6) ...\n",
            "Setting up texlive-base (2019.20200218-1) ...\n",
            "mktexlsr: Updating /var/lib/texmf/ls-R-TEXLIVEDIST... \n",
            "mktexlsr: Updating /var/lib/texmf/ls-R-TEXMFMAIN... \n",
            "mktexlsr: Updating /var/lib/texmf/ls-R... \n",
            "mktexlsr: Done.\n",
            "tl-paper: setting paper size for dvips to a4: /var/lib/texmf/dvips/config/config-paper.ps\n",
            "tl-paper: setting paper size for dvipdfmx to a4: /var/lib/texmf/dvipdfmx/dvipdfmx-paper.cfg\n",
            "tl-paper: setting paper size for xdvi to a4: /var/lib/texmf/xdvi/XDvi-paper\n",
            "tl-paper: setting paper size for pdftex to a4: /var/lib/texmf/tex/generic/config/pdftexconfig.tex\n",
            "Setting up tex-gyre (20180621-3) ...\n",
            "Setting up dvipng (1.15-1.1) ...\n",
            "Setting up texlive-plain-generic (2019.202000218-1) ...\n",
            "Setting up texlive-latex-base (2019.20200218-1) ...\n",
            "Setting up texlive-latex-recommended (2019.20200218-1) ...\n",
            "Setting up texlive-pictures (2019.20200218-1) ...\n",
            "Setting up texlive-fonts-recommended (2019.20200218-1) ...\n",
            "Setting up tipa (2:1.3-20) ...\n",
            "Regenerating '/var/lib/texmf/fmtutil.cnf-DEBIAN'... done.\n",
            "Regenerating '/var/lib/texmf/fmtutil.cnf-TEXLIVEDIST'... done.\n",
            "update-fmtutil has updated the following file(s):\n",
            "\t/var/lib/texmf/fmtutil.cnf-DEBIAN\n",
            "\t/var/lib/texmf/fmtutil.cnf-TEXLIVEDIST\n",
            "If you want to activate the changes in the above file(s),\n",
            "you should run fmtutil-sys or fmtutil.\n",
            "Setting up cm-super-minimal (0.3.4-15) ...\n",
            "Setting up texlive (2019.20200218-1) ...\n",
            "Setting up texlive-latex-extra (2019.202000218-1) ...\n",
            "Setting up texlive-xetex (2019.20200218-1) ...\n",
            "Setting up cm-super (0.3.4-15) ...\n",
            "Creating fonts. This may take some time... done.\n",
            "Setting up rake (13.0.1-4) ...\n",
            "Setting up libruby2.7:amd64 (2.7.0-5ubuntu1.10) ...\n",
            "Setting up ruby2.7 (2.7.0-5ubuntu1.10) ...\n",
            "Setting up ruby (1:2.7+1) ...\n",
            "Processing triggers for fontconfig (2.13.1-2ubuntu3) ...\n",
            "Processing triggers for mime-support (3.64ubuntu1) ...\n",
            "Processing triggers for libc-bin (2.31-0ubuntu9.9) ...\n",
            "Processing triggers for man-db (2.9.1-1) ...\n",
            "Processing triggers for tex-common (6.13) ...\n",
            "Running updmap-sys. This may take some time... done.\n",
            "Running mktexlsr /var/lib/texmf ... done.\n",
            "Building format(s) --all.\n",
            "\tThis may take some time... done.\n",
            "Looking in indexes: https://pypi.org/simple, https://us-python.pkg.dev/colab-wheels/public/simple/\n",
            "Collecting pypandoc\n",
            "  Downloading pypandoc-1.11-py3-none-any.whl (20 kB)\n",
            "Installing collected packages: pypandoc\n",
            "Successfully installed pypandoc-1.11\n",
            "Mounted at /content/drive\n"
          ]
        }
      ]
    },
    {
      "cell_type": "code",
      "source": [
        "%cd drive/MyDrive/ORF307/final/\n",
        "!jupyter nbconvert --to PDF \"sh3770_final.ipynb\""
      ],
      "metadata": {
        "colab": {
          "base_uri": "https://localhost:8080/"
        },
        "id": "XXBlfTLI21LL",
        "outputId": "fa0e10aa-c9bf-4b67-c664-5a38dff4bba5"
      },
      "id": "XXBlfTLI21LL",
      "execution_count": 240,
      "outputs": [
        {
          "output_type": "stream",
          "name": "stdout",
          "text": [
            "[Errno 2] No such file or directory: 'drive/MyDrive/ORF307/final/'\n",
            "/content/drive/MyDrive/ORF307/final\n",
            "[NbConvertApp] WARNING | pattern 'sh3770_final.ipynb' matched no files\n",
            "This application is used to convert notebook files (*.ipynb)\n",
            "        to various other formats.\n",
            "\n",
            "        WARNING: THE COMMANDLINE INTERFACE MAY CHANGE IN FUTURE RELEASES.\n",
            "\n",
            "Options\n",
            "=======\n",
            "The options below are convenience aliases to configurable class-options,\n",
            "as listed in the \"Equivalent to\" description-line of the aliases.\n",
            "To see all configurable class-options for some <cmd>, use:\n",
            "    <cmd> --help-all\n",
            "\n",
            "--debug\n",
            "    set log level to logging.DEBUG (maximize logging output)\n",
            "    Equivalent to: [--Application.log_level=10]\n",
            "--show-config\n",
            "    Show the application's configuration (human-readable format)\n",
            "    Equivalent to: [--Application.show_config=True]\n",
            "--show-config-json\n",
            "    Show the application's configuration (json format)\n",
            "    Equivalent to: [--Application.show_config_json=True]\n",
            "--generate-config\n",
            "    generate default config file\n",
            "    Equivalent to: [--JupyterApp.generate_config=True]\n",
            "-y\n",
            "    Answer yes to any questions instead of prompting.\n",
            "    Equivalent to: [--JupyterApp.answer_yes=True]\n",
            "--execute\n",
            "    Execute the notebook prior to export.\n",
            "    Equivalent to: [--ExecutePreprocessor.enabled=True]\n",
            "--allow-errors\n",
            "    Continue notebook execution even if one of the cells throws an error and include the error message in the cell output (the default behaviour is to abort conversion). This flag is only relevant if '--execute' was specified, too.\n",
            "    Equivalent to: [--ExecutePreprocessor.allow_errors=True]\n",
            "--stdin\n",
            "    read a single notebook file from stdin. Write the resulting notebook with default basename 'notebook.*'\n",
            "    Equivalent to: [--NbConvertApp.from_stdin=True]\n",
            "--stdout\n",
            "    Write notebook output to stdout instead of files.\n",
            "    Equivalent to: [--NbConvertApp.writer_class=StdoutWriter]\n",
            "--inplace\n",
            "    Run nbconvert in place, overwriting the existing notebook (only\n",
            "            relevant when converting to notebook format)\n",
            "    Equivalent to: [--NbConvertApp.use_output_suffix=False --NbConvertApp.export_format=notebook --FilesWriter.build_directory=]\n",
            "--clear-output\n",
            "    Clear output of current file and save in place,\n",
            "            overwriting the existing notebook.\n",
            "    Equivalent to: [--NbConvertApp.use_output_suffix=False --NbConvertApp.export_format=notebook --FilesWriter.build_directory= --ClearOutputPreprocessor.enabled=True]\n",
            "--no-prompt\n",
            "    Exclude input and output prompts from converted document.\n",
            "    Equivalent to: [--TemplateExporter.exclude_input_prompt=True --TemplateExporter.exclude_output_prompt=True]\n",
            "--no-input\n",
            "    Exclude input cells and output prompts from converted document.\n",
            "            This mode is ideal for generating code-free reports.\n",
            "    Equivalent to: [--TemplateExporter.exclude_output_prompt=True --TemplateExporter.exclude_input=True --TemplateExporter.exclude_input_prompt=True]\n",
            "--allow-chromium-download\n",
            "    Whether to allow downloading chromium if no suitable version is found on the system.\n",
            "    Equivalent to: [--WebPDFExporter.allow_chromium_download=True]\n",
            "--disable-chromium-sandbox\n",
            "    Disable chromium security sandbox when converting to PDF..\n",
            "    Equivalent to: [--WebPDFExporter.disable_sandbox=True]\n",
            "--show-input\n",
            "    Shows code input. This flag is only useful for dejavu users.\n",
            "    Equivalent to: [--TemplateExporter.exclude_input=False]\n",
            "--embed-images\n",
            "    Embed the images as base64 dataurls in the output. This flag is only useful for the HTML/WebPDF/Slides exports.\n",
            "    Equivalent to: [--HTMLExporter.embed_images=True]\n",
            "--sanitize-html\n",
            "    Whether the HTML in Markdown cells and cell outputs should be sanitized..\n",
            "    Equivalent to: [--HTMLExporter.sanitize_html=True]\n",
            "--log-level=<Enum>\n",
            "    Set the log level by value or name.\n",
            "    Choices: any of [0, 10, 20, 30, 40, 50, 'DEBUG', 'INFO', 'WARN', 'ERROR', 'CRITICAL']\n",
            "    Default: 30\n",
            "    Equivalent to: [--Application.log_level]\n",
            "--config=<Unicode>\n",
            "    Full path of a config file.\n",
            "    Default: ''\n",
            "    Equivalent to: [--JupyterApp.config_file]\n",
            "--to=<Unicode>\n",
            "    The export format to be used, either one of the built-in formats\n",
            "            ['asciidoc', 'custom', 'html', 'latex', 'markdown', 'notebook', 'pdf', 'python', 'rst', 'script', 'slides', 'webpdf']\n",
            "            or a dotted object name that represents the import path for an\n",
            "            ``Exporter`` class\n",
            "    Default: ''\n",
            "    Equivalent to: [--NbConvertApp.export_format]\n",
            "--template=<Unicode>\n",
            "    Name of the template to use\n",
            "    Default: ''\n",
            "    Equivalent to: [--TemplateExporter.template_name]\n",
            "--template-file=<Unicode>\n",
            "    Name of the template file to use\n",
            "    Default: None\n",
            "    Equivalent to: [--TemplateExporter.template_file]\n",
            "--theme=<Unicode>\n",
            "    Template specific theme(e.g. the name of a JupyterLab CSS theme distributed\n",
            "    as prebuilt extension for the lab template)\n",
            "    Default: 'light'\n",
            "    Equivalent to: [--HTMLExporter.theme]\n",
            "--sanitize_html=<Bool>\n",
            "    Whether the HTML in Markdown cells and cell outputs should be sanitized.This\n",
            "    should be set to True by nbviewer or similar tools.\n",
            "    Default: False\n",
            "    Equivalent to: [--HTMLExporter.sanitize_html]\n",
            "--writer=<DottedObjectName>\n",
            "    Writer class used to write the\n",
            "                                        results of the conversion\n",
            "    Default: 'FilesWriter'\n",
            "    Equivalent to: [--NbConvertApp.writer_class]\n",
            "--post=<DottedOrNone>\n",
            "    PostProcessor class used to write the\n",
            "                                        results of the conversion\n",
            "    Default: ''\n",
            "    Equivalent to: [--NbConvertApp.postprocessor_class]\n",
            "--output=<Unicode>\n",
            "    overwrite base name use for output files.\n",
            "                can only be used when converting one notebook at a time.\n",
            "    Default: ''\n",
            "    Equivalent to: [--NbConvertApp.output_base]\n",
            "--output-dir=<Unicode>\n",
            "    Directory to write output(s) to. Defaults\n",
            "                                  to output to the directory of each notebook. To recover\n",
            "                                  previous default behaviour (outputting to the current\n",
            "                                  working directory) use . as the flag value.\n",
            "    Default: ''\n",
            "    Equivalent to: [--FilesWriter.build_directory]\n",
            "--reveal-prefix=<Unicode>\n",
            "    The URL prefix for reveal.js (version 3.x).\n",
            "            This defaults to the reveal CDN, but can be any url pointing to a copy\n",
            "            of reveal.js.\n",
            "            For speaker notes to work, this must be a relative path to a local\n",
            "            copy of reveal.js: e.g., \"reveal.js\".\n",
            "            If a relative path is given, it must be a subdirectory of the\n",
            "            current directory (from which the server is run).\n",
            "            See the usage documentation\n",
            "            (https://nbconvert.readthedocs.io/en/latest/usage.html#reveal-js-html-slideshow)\n",
            "            for more details.\n",
            "    Default: ''\n",
            "    Equivalent to: [--SlidesExporter.reveal_url_prefix]\n",
            "--nbformat=<Enum>\n",
            "    The nbformat version to write.\n",
            "            Use this to downgrade notebooks.\n",
            "    Choices: any of [1, 2, 3, 4]\n",
            "    Default: 4\n",
            "    Equivalent to: [--NotebookExporter.nbformat_version]\n",
            "\n",
            "Examples\n",
            "--------\n",
            "\n",
            "    The simplest way to use nbconvert is\n",
            "\n",
            "            > jupyter nbconvert mynotebook.ipynb --to html\n",
            "\n",
            "            Options include ['asciidoc', 'custom', 'html', 'latex', 'markdown', 'notebook', 'pdf', 'python', 'rst', 'script', 'slides', 'webpdf'].\n",
            "\n",
            "            > jupyter nbconvert --to latex mynotebook.ipynb\n",
            "\n",
            "            Both HTML and LaTeX support multiple output templates. LaTeX includes\n",
            "            'base', 'article' and 'report'.  HTML includes 'basic', 'lab' and\n",
            "            'classic'. You can specify the flavor of the format used.\n",
            "\n",
            "            > jupyter nbconvert --to html --template lab mynotebook.ipynb\n",
            "\n",
            "            You can also pipe the output to stdout, rather than a file\n",
            "\n",
            "            > jupyter nbconvert mynotebook.ipynb --stdout\n",
            "\n",
            "            PDF is generated via latex\n",
            "\n",
            "            > jupyter nbconvert mynotebook.ipynb --to pdf\n",
            "\n",
            "            You can get (and serve) a Reveal.js-powered slideshow\n",
            "\n",
            "            > jupyter nbconvert myslides.ipynb --to slides --post serve\n",
            "\n",
            "            Multiple notebooks can be given at the command line in a couple of\n",
            "            different ways:\n",
            "\n",
            "            > jupyter nbconvert notebook*.ipynb\n",
            "            > jupyter nbconvert notebook1.ipynb notebook2.ipynb\n",
            "\n",
            "            or you can specify the notebooks list in a config file, containing::\n",
            "\n",
            "                c.NbConvertApp.notebooks = [\"my_notebook.ipynb\"]\n",
            "\n",
            "            > jupyter nbconvert --config mycfg.py\n",
            "\n",
            "To see all available configurables, use `--help-all`.\n",
            "\n"
          ]
        }
      ]
    },
    {
      "cell_type": "markdown",
      "id": "fa9c8a7e",
      "metadata": {
        "id": "fa9c8a7e"
      },
      "source": [
        "# Final Exam\n",
        "\n",
        "## Portfolio Optimization\n",
        "\n",
        "You are a portfolio manager who is given $n = 11$ stocks to invest in:\n",
        "\n",
        "    - AMD, AMZN, BAC, GOOG, GS, K, KO, META, NKE, SHEL, SPY\n",
        "    \n",
        "Specifically, your goal is to decide a vector of weights $w \\in {\\bf R}^{n}$, where $w_i$ is the fraction of your portfolio that you allocate to stock $i$.\n",
        "\n",
        "To decide these weights, you are given historical data for these 11 stocks for every trading day from 02/01/2023 to 04/28/2023 ($T = 61$ total trading days). The data can be found in the `returns.csv` file, which we import as the returns matrix $R \\in {\\bf R}^{T \\times n}$. The data file contains percentages, so we divide by 100 when forming the matrix R.\n",
        "An entry $R_{ti}$ then contains the (decimal) return on trading day $t$ for the price of stock $i$ (negative values correspond to a loss). We define the the vector of daily average returns per asset as $\\mu = (R^T {\\bf 1}) / T$."
      ]
    },
    {
      "cell_type": "code",
      "execution_count": null,
      "id": "718100d7",
      "metadata": {
        "id": "718100d7"
      },
      "outputs": [],
      "source": [
        "import numpy as np\n",
        "np.set_printoptions(precision=4)  # Print few decimal places\n",
        "np.set_printoptions(suppress=True)  # Suppress scientific notation\n",
        "import cvxpy as cp\n",
        "import pandas as pd\n",
        "from numpy.linalg import cholesky as llt\n",
        "import matplotlib.pyplot as plt"
      ]
    },
    {
      "cell_type": "code",
      "execution_count": 21,
      "id": "e341794f",
      "metadata": {
        "colab": {
          "base_uri": "https://localhost:8080/",
          "height": 423
        },
        "id": "e341794f",
        "outputId": "da483bed-9ea7-4e65-ab0e-8b4c026c7690"
      },
      "outputs": [
        {
          "output_type": "execute_result",
          "data": {
            "text/plain": [
              "      AMD  AMZN   BAC  GOOG    GS     K    KO   META   NKE  SHEL   SPY\n",
              "0   12.63  1.96  1.24  1.56 -0.03 -0.47  0.02   2.79  1.70 -0.83  1.06\n",
              "1    4.34  7.38  0.58  7.27  1.03 -0.92 -1.71  23.28 -0.34 -1.18  1.46\n",
              "2   -2.51 -8.43  0.83 -3.29  0.13 -0.03 -0.75  -1.19 -1.12  1.16 -1.06\n",
              "3   -2.80 -1.17 -0.16 -1.66  0.23  2.07  0.57  -0.25 -1.47 -0.77 -0.61\n",
              "4    2.66 -0.07  1.10  4.42  0.97 -1.46 -0.17   2.99 -0.32  3.04  1.31\n",
              "..    ...   ...   ...   ...   ...   ...   ...    ...   ...   ...   ...\n",
              "56  -0.97 -0.70 -0.37  0.82  0.67  0.40 -0.16  -0.05  1.24  0.88  0.10\n",
              "57  -4.31 -3.43 -3.09 -2.03 -1.30  1.38 -0.16  -2.46 -1.91 -2.08 -1.59\n",
              "58   2.55  2.35 -1.39 -0.15 -0.86 -0.13 -0.47   0.89 -0.66 -0.36 -0.42\n",
              "59   1.75  4.61  1.58  3.75  1.50  1.21  0.20  13.93  1.50  0.31  1.99\n",
              "60   2.21 -3.98  1.35 -0.14  0.54  0.69  0.74   0.74  0.81  2.14  0.85\n",
              "\n",
              "[61 rows x 11 columns]"
            ],
            "text/html": [
              "\n",
              "  <div id=\"df-086c28a1-f72a-47a7-906a-40cea8c182ef\">\n",
              "    <div class=\"colab-df-container\">\n",
              "      <div>\n",
              "<style scoped>\n",
              "    .dataframe tbody tr th:only-of-type {\n",
              "        vertical-align: middle;\n",
              "    }\n",
              "\n",
              "    .dataframe tbody tr th {\n",
              "        vertical-align: top;\n",
              "    }\n",
              "\n",
              "    .dataframe thead th {\n",
              "        text-align: right;\n",
              "    }\n",
              "</style>\n",
              "<table border=\"1\" class=\"dataframe\">\n",
              "  <thead>\n",
              "    <tr style=\"text-align: right;\">\n",
              "      <th></th>\n",
              "      <th>AMD</th>\n",
              "      <th>AMZN</th>\n",
              "      <th>BAC</th>\n",
              "      <th>GOOG</th>\n",
              "      <th>GS</th>\n",
              "      <th>K</th>\n",
              "      <th>KO</th>\n",
              "      <th>META</th>\n",
              "      <th>NKE</th>\n",
              "      <th>SHEL</th>\n",
              "      <th>SPY</th>\n",
              "    </tr>\n",
              "  </thead>\n",
              "  <tbody>\n",
              "    <tr>\n",
              "      <th>0</th>\n",
              "      <td>12.63</td>\n",
              "      <td>1.96</td>\n",
              "      <td>1.24</td>\n",
              "      <td>1.56</td>\n",
              "      <td>-0.03</td>\n",
              "      <td>-0.47</td>\n",
              "      <td>0.02</td>\n",
              "      <td>2.79</td>\n",
              "      <td>1.70</td>\n",
              "      <td>-0.83</td>\n",
              "      <td>1.06</td>\n",
              "    </tr>\n",
              "    <tr>\n",
              "      <th>1</th>\n",
              "      <td>4.34</td>\n",
              "      <td>7.38</td>\n",
              "      <td>0.58</td>\n",
              "      <td>7.27</td>\n",
              "      <td>1.03</td>\n",
              "      <td>-0.92</td>\n",
              "      <td>-1.71</td>\n",
              "      <td>23.28</td>\n",
              "      <td>-0.34</td>\n",
              "      <td>-1.18</td>\n",
              "      <td>1.46</td>\n",
              "    </tr>\n",
              "    <tr>\n",
              "      <th>2</th>\n",
              "      <td>-2.51</td>\n",
              "      <td>-8.43</td>\n",
              "      <td>0.83</td>\n",
              "      <td>-3.29</td>\n",
              "      <td>0.13</td>\n",
              "      <td>-0.03</td>\n",
              "      <td>-0.75</td>\n",
              "      <td>-1.19</td>\n",
              "      <td>-1.12</td>\n",
              "      <td>1.16</td>\n",
              "      <td>-1.06</td>\n",
              "    </tr>\n",
              "    <tr>\n",
              "      <th>3</th>\n",
              "      <td>-2.80</td>\n",
              "      <td>-1.17</td>\n",
              "      <td>-0.16</td>\n",
              "      <td>-1.66</td>\n",
              "      <td>0.23</td>\n",
              "      <td>2.07</td>\n",
              "      <td>0.57</td>\n",
              "      <td>-0.25</td>\n",
              "      <td>-1.47</td>\n",
              "      <td>-0.77</td>\n",
              "      <td>-0.61</td>\n",
              "    </tr>\n",
              "    <tr>\n",
              "      <th>4</th>\n",
              "      <td>2.66</td>\n",
              "      <td>-0.07</td>\n",
              "      <td>1.10</td>\n",
              "      <td>4.42</td>\n",
              "      <td>0.97</td>\n",
              "      <td>-1.46</td>\n",
              "      <td>-0.17</td>\n",
              "      <td>2.99</td>\n",
              "      <td>-0.32</td>\n",
              "      <td>3.04</td>\n",
              "      <td>1.31</td>\n",
              "    </tr>\n",
              "    <tr>\n",
              "      <th>...</th>\n",
              "      <td>...</td>\n",
              "      <td>...</td>\n",
              "      <td>...</td>\n",
              "      <td>...</td>\n",
              "      <td>...</td>\n",
              "      <td>...</td>\n",
              "      <td>...</td>\n",
              "      <td>...</td>\n",
              "      <td>...</td>\n",
              "      <td>...</td>\n",
              "      <td>...</td>\n",
              "    </tr>\n",
              "    <tr>\n",
              "      <th>56</th>\n",
              "      <td>-0.97</td>\n",
              "      <td>-0.70</td>\n",
              "      <td>-0.37</td>\n",
              "      <td>0.82</td>\n",
              "      <td>0.67</td>\n",
              "      <td>0.40</td>\n",
              "      <td>-0.16</td>\n",
              "      <td>-0.05</td>\n",
              "      <td>1.24</td>\n",
              "      <td>0.88</td>\n",
              "      <td>0.10</td>\n",
              "    </tr>\n",
              "    <tr>\n",
              "      <th>57</th>\n",
              "      <td>-4.31</td>\n",
              "      <td>-3.43</td>\n",
              "      <td>-3.09</td>\n",
              "      <td>-2.03</td>\n",
              "      <td>-1.30</td>\n",
              "      <td>1.38</td>\n",
              "      <td>-0.16</td>\n",
              "      <td>-2.46</td>\n",
              "      <td>-1.91</td>\n",
              "      <td>-2.08</td>\n",
              "      <td>-1.59</td>\n",
              "    </tr>\n",
              "    <tr>\n",
              "      <th>58</th>\n",
              "      <td>2.55</td>\n",
              "      <td>2.35</td>\n",
              "      <td>-1.39</td>\n",
              "      <td>-0.15</td>\n",
              "      <td>-0.86</td>\n",
              "      <td>-0.13</td>\n",
              "      <td>-0.47</td>\n",
              "      <td>0.89</td>\n",
              "      <td>-0.66</td>\n",
              "      <td>-0.36</td>\n",
              "      <td>-0.42</td>\n",
              "    </tr>\n",
              "    <tr>\n",
              "      <th>59</th>\n",
              "      <td>1.75</td>\n",
              "      <td>4.61</td>\n",
              "      <td>1.58</td>\n",
              "      <td>3.75</td>\n",
              "      <td>1.50</td>\n",
              "      <td>1.21</td>\n",
              "      <td>0.20</td>\n",
              "      <td>13.93</td>\n",
              "      <td>1.50</td>\n",
              "      <td>0.31</td>\n",
              "      <td>1.99</td>\n",
              "    </tr>\n",
              "    <tr>\n",
              "      <th>60</th>\n",
              "      <td>2.21</td>\n",
              "      <td>-3.98</td>\n",
              "      <td>1.35</td>\n",
              "      <td>-0.14</td>\n",
              "      <td>0.54</td>\n",
              "      <td>0.69</td>\n",
              "      <td>0.74</td>\n",
              "      <td>0.74</td>\n",
              "      <td>0.81</td>\n",
              "      <td>2.14</td>\n",
              "      <td>0.85</td>\n",
              "    </tr>\n",
              "  </tbody>\n",
              "</table>\n",
              "<p>61 rows × 11 columns</p>\n",
              "</div>\n",
              "      <button class=\"colab-df-convert\" onclick=\"convertToInteractive('df-086c28a1-f72a-47a7-906a-40cea8c182ef')\"\n",
              "              title=\"Convert this dataframe to an interactive table.\"\n",
              "              style=\"display:none;\">\n",
              "        \n",
              "  <svg xmlns=\"http://www.w3.org/2000/svg\" height=\"24px\"viewBox=\"0 0 24 24\"\n",
              "       width=\"24px\">\n",
              "    <path d=\"M0 0h24v24H0V0z\" fill=\"none\"/>\n",
              "    <path d=\"M18.56 5.44l.94 2.06.94-2.06 2.06-.94-2.06-.94-.94-2.06-.94 2.06-2.06.94zm-11 1L8.5 8.5l.94-2.06 2.06-.94-2.06-.94L8.5 2.5l-.94 2.06-2.06.94zm10 10l.94 2.06.94-2.06 2.06-.94-2.06-.94-.94-2.06-.94 2.06-2.06.94z\"/><path d=\"M17.41 7.96l-1.37-1.37c-.4-.4-.92-.59-1.43-.59-.52 0-1.04.2-1.43.59L10.3 9.45l-7.72 7.72c-.78.78-.78 2.05 0 2.83L4 21.41c.39.39.9.59 1.41.59.51 0 1.02-.2 1.41-.59l7.78-7.78 2.81-2.81c.8-.78.8-2.07 0-2.86zM5.41 20L4 18.59l7.72-7.72 1.47 1.35L5.41 20z\"/>\n",
              "  </svg>\n",
              "      </button>\n",
              "      \n",
              "  <style>\n",
              "    .colab-df-container {\n",
              "      display:flex;\n",
              "      flex-wrap:wrap;\n",
              "      gap: 12px;\n",
              "    }\n",
              "\n",
              "    .colab-df-convert {\n",
              "      background-color: #E8F0FE;\n",
              "      border: none;\n",
              "      border-radius: 50%;\n",
              "      cursor: pointer;\n",
              "      display: none;\n",
              "      fill: #1967D2;\n",
              "      height: 32px;\n",
              "      padding: 0 0 0 0;\n",
              "      width: 32px;\n",
              "    }\n",
              "\n",
              "    .colab-df-convert:hover {\n",
              "      background-color: #E2EBFA;\n",
              "      box-shadow: 0px 1px 2px rgba(60, 64, 67, 0.3), 0px 1px 3px 1px rgba(60, 64, 67, 0.15);\n",
              "      fill: #174EA6;\n",
              "    }\n",
              "\n",
              "    [theme=dark] .colab-df-convert {\n",
              "      background-color: #3B4455;\n",
              "      fill: #D2E3FC;\n",
              "    }\n",
              "\n",
              "    [theme=dark] .colab-df-convert:hover {\n",
              "      background-color: #434B5C;\n",
              "      box-shadow: 0px 1px 3px 1px rgba(0, 0, 0, 0.15);\n",
              "      filter: drop-shadow(0px 1px 2px rgba(0, 0, 0, 0.3));\n",
              "      fill: #FFFFFF;\n",
              "    }\n",
              "  </style>\n",
              "\n",
              "      <script>\n",
              "        const buttonEl =\n",
              "          document.querySelector('#df-086c28a1-f72a-47a7-906a-40cea8c182ef button.colab-df-convert');\n",
              "        buttonEl.style.display =\n",
              "          google.colab.kernel.accessAllowed ? 'block' : 'none';\n",
              "\n",
              "        async function convertToInteractive(key) {\n",
              "          const element = document.querySelector('#df-086c28a1-f72a-47a7-906a-40cea8c182ef');\n",
              "          const dataTable =\n",
              "            await google.colab.kernel.invokeFunction('convertToInteractive',\n",
              "                                                     [key], {});\n",
              "          if (!dataTable) return;\n",
              "\n",
              "          const docLinkHtml = 'Like what you see? Visit the ' +\n",
              "            '<a target=\"_blank\" href=https://colab.research.google.com/notebooks/data_table.ipynb>data table notebook</a>'\n",
              "            + ' to learn more about interactive tables.';\n",
              "          element.innerHTML = '';\n",
              "          dataTable['output_type'] = 'display_data';\n",
              "          await google.colab.output.renderOutput(dataTable, element);\n",
              "          const docLink = document.createElement('div');\n",
              "          docLink.innerHTML = docLinkHtml;\n",
              "          element.appendChild(docLink);\n",
              "        }\n",
              "      </script>\n",
              "    </div>\n",
              "  </div>\n",
              "  "
            ]
          },
          "metadata": {},
          "execution_count": 21
        }
      ],
      "source": [
        "# read the data\n",
        "irl = 'https://raw.githubusercontent.com/Shuchenhe/307FINAL/main/returns.csv'\n",
        "# I did the same thing in my HW4, where, for unknown reason I cannot\n",
        "# read files directly from my google drive. Therefore, I upload the \n",
        "# file to github and then access github from my colab. \n",
        "returns = pd.read_csv(irl)\n",
        "returns"
      ]
    },
    {
      "cell_type": "code",
      "execution_count": 22,
      "id": "4b2ea2af",
      "metadata": {
        "id": "4b2ea2af",
        "colab": {
          "base_uri": "https://localhost:8080/"
        },
        "outputId": "5d23431f-7999-4a33-a50f-ec668aaf08ab"
      },
      "outputs": [
        {
          "output_type": "execute_result",
          "data": {
            "text/plain": [
              "['AMD', 'AMZN', 'BAC', 'GOOG', 'GS', 'K', 'KO', 'META', 'NKE', 'SHEL', 'SPY']"
            ]
          },
          "metadata": {},
          "execution_count": 22
        }
      ],
      "source": [
        "tickers = list(returns)\n",
        "tickers"
      ]
    },
    {
      "cell_type": "code",
      "execution_count": 23,
      "id": "7d9d961c",
      "metadata": {
        "id": "7d9d961c",
        "colab": {
          "base_uri": "https://localhost:8080/"
        },
        "outputId": "24b2ea84-a967-4dbd-fa33-ac1eafcb6bdc"
      },
      "outputs": [
        {
          "output_type": "execute_result",
          "data": {
            "text/plain": [
              "(61, 11)"
            ]
          },
          "metadata": {},
          "execution_count": 23
        }
      ],
      "source": [
        "R = returns.to_numpy() / 100 # convert percentages to decimals when forming R\n",
        "T, n = R.shape\n",
        "R.shape"
      ]
    },
    {
      "cell_type": "code",
      "execution_count": 24,
      "id": "9e6b9e2a",
      "metadata": {
        "id": "9e6b9e2a",
        "colab": {
          "base_uri": "https://localhost:8080/"
        },
        "outputId": "cf33f34e-4b8e-4768-db70-9a29de3e2d59"
      },
      "outputs": [
        {
          "output_type": "execute_result",
          "data": {
            "text/plain": [
              "array([ 0.0033,  0.0007, -0.0029,  0.0016, -0.0009,  0.0003,  0.0008,\n",
              "        0.0086,  0.    ,  0.001 ,  0.0004])"
            ]
          },
          "metadata": {},
          "execution_count": 24
        }
      ],
      "source": [
        "mu = R.T @ np.ones(T) / T\n",
        "mu"
      ]
    },
    {
      "cell_type": "markdown",
      "id": "ebdfeba8",
      "metadata": {
        "id": "ebdfeba8"
      },
      "source": [
        "### Part A: Least Squares (25 points)"
      ]
    },
    {
      "cell_type": "markdown",
      "id": "a5f17999",
      "metadata": {
        "id": "a5f17999"
      },
      "source": [
        "For a portfolio with constant weight $w$ over the entire historical time period, the returns are given by $r = Rw$. In this scenario, we aim to choose a $w$ that would have worked well in the past with the hope that it will work well in the future. Over the time series of length $T$, the average return is given by ${\\bf avg}(r) = {\\bf 1}^T r/T$ and the risk, or standard derivation, is given by ${\\bf std}(r) = \\lVert r - {\\bf avg}(r){\\bf 1} \\rVert / \\sqrt{T}$."
      ]
    },
    {
      "cell_type": "markdown",
      "id": "ac2ecd9c-1d5f-4438-a97a-782812516504",
      "metadata": {
        "id": "ac2ecd9c-1d5f-4438-a97a-782812516504"
      },
      "source": [
        "1. (6 points) Our goal is to find portfolio normalized weights $w$ that minimize the risk given a target daily mean return $\\rho$. Formulate such a problem using constrained least squares."
      ]
    },
    {
      "cell_type": "markdown",
      "source": [
        "$Q1$\n",
        "\n",
        "To formulate this problem using constrained least squares, we first note that the variance is the square of the standard deviation. $Var(r) = std(r)^2$. Besides, since we need to find the normalized weights, so the sum of weights of each asset should be equal to 1. As required by the question, we also need to make $avg(r) = \\rho$. Hence, we formulate our problem as the following: \n",
        "$$ \n",
        "\\begin{array}{ll}\n",
        "&\\\\\n",
        "\\mbox{minimize} &\\lVert R\\omega - \\rho1 \\rVert^2_2/T\\\\ \n",
        "\\text{subject to} & 1^T \\omega = 1\\\\\n",
        "& 1^TR\\omega / T = \\rho\\\\\n",
        "&\\\\\n",
        "\\end{array}\n",
        "$$ Where R, T, $\\rho$, are given. Since T is given constant, the formulation above is equivalent to \n",
        "$$ \n",
        "\\begin{array}{ll}\n",
        "&\\\\\n",
        "\\mbox{minimize} &\\lVert R\\omega - \\rho1 \\rVert^2_2\\\\ \n",
        "\\text{subject to} & 1^T \\omega = 1\\\\\n",
        "& 1^TR\\omega / T = \\rho\\\\\n",
        "&\\\\\n",
        "\\end{array}\n",
        "$$"
      ],
      "metadata": {
        "id": "j0fV14ZRA35g"
      },
      "id": "j0fV14ZRA35g"
    },
    {
      "cell_type": "markdown",
      "id": "9bcb0d1c",
      "metadata": {
        "id": "9bcb0d1c"
      },
      "source": [
        "2. (6 points) You believe, due to new economic developments, that it would be wise to specifically set aside some amount of your portfolio to the S&P 500 Index (stock 11, ticker SPY, in the data). So, you decide that you will always set aside 10% of your portfolio to buy stock in SPY. Add this constraint to the constrained least squares problem."
      ]
    },
    {
      "cell_type": "markdown",
      "source": [
        "$Q2$\n",
        "\n",
        "\n",
        "Since we are required to $always$ set aside 10% of the portfolio to the last (11th) stock, SPY, we will just have to ensure that the last (11th) number of array $\\omega$ to be exactly 0.1. Therefore, our new formulation becomes: \n",
        "$$ \n",
        "\\begin{array}{ll}\n",
        "&\\\\\n",
        "\\mbox{minimize} &\\lVert R\\omega - \\rho1 \\rVert^2_2\\\\ \n",
        "\\text{subject to} & 1^T \\omega = 1\\\\\n",
        "& 1^TR\\omega / T = \\rho\\\\\n",
        "& e_{11}^T\\omega = 0.1\\\\\n",
        "\\text{where} & e_{11} =  \\begin{pmatrix}\n",
        "0 \\\\\n",
        "0 \\\\\n",
        "0 \\\\\n",
        "0 \\\\ \n",
        "0 \\\\\n",
        "0 \\\\\n",
        "0\\\\\n",
        "0\\\\\n",
        "0\\\\\n",
        "0\\\\\n",
        "1 \n",
        "\\end{pmatrix}\n",
        "\\end{array}\n",
        "$$"
      ],
      "metadata": {
        "id": "QoV5rro_FZ_Z"
      },
      "id": "QoV5rro_FZ_Z"
    },
    {
      "cell_type": "markdown",
      "id": "dbc97152",
      "metadata": {
        "id": "dbc97152"
      },
      "source": [
        "3. (6 points) Write the KKT linear system for the optimality conditions for the constrained least squares problem that you created in question 2."
      ]
    },
    {
      "cell_type": "markdown",
      "source": [
        "**$Q3$**\n",
        "\n",
        "We first re-write our problem in the format of $$ \n",
        "\\begin{array}{ll}\n",
        "&\\\\\n",
        "\\mbox{minimize} &\\lVert Ax - b \\rVert^2_2\\\\ \n",
        "\\text{subject to} & Cx = d \\\\\n",
        "&\\\\\n",
        "\\end{array}\n",
        "$$ so the KKT condition will be the following linear system: \n",
        "\n",
        "\n",
        "$$\n",
        "\\begin{bmatrix}\n",
        "2A^TA & C^T \\\\\n",
        "C & 0 \\\\\n",
        "\\end{bmatrix} \\begin{bmatrix}\n",
        "x \\\\\n",
        "z*\\\\\n",
        "\\end{bmatrix} = \\begin{bmatrix}\n",
        "2A^Tb \\\\\n",
        "d\\\\\n",
        "\\end{bmatrix} \n",
        "$$\n",
        "In our case, \n",
        "$$\n",
        "A = R \\in {\\bf R}^{T^{*}n = 61^{*}11} \\\\ b = \\rho1 \\in {\\bf R}^{T =61}\\\\\n",
        "C = \\begin{bmatrix}\n",
        "1^T \\\\\n",
        "1^TR\\\\\n",
        "e_{11}^T\n",
        "\\end{bmatrix} \\in {\\bf R}^{3^{*}11}\\\\\n",
        "d = \\begin{bmatrix}\n",
        "1 \\\\\n",
        "\\rho T\\\\\n",
        "0.1\n",
        "\\end{bmatrix}\\in {\\bf R}^{3}\\\\\n",
        "x = \\omega \\in {\\bf R}^{n = 11}\\\\\n",
        "$$ Therefore, the linear system becomes \n",
        "\n",
        "$$\n",
        "\\begin{bmatrix}\n",
        "2R^TR & 1 & R^T1 & e_{11} \\\\\n",
        "1^T & 0 & 0 & 0 \\\\\n",
        "1^TR & 0 & 0 & 0\\\\\n",
        "e_{11}^T & 0 & 0 &0\n",
        "\\end{bmatrix} \\begin{bmatrix}\n",
        "\\omega \\\\\n",
        "z_1\\\\\n",
        "z_2 \\\\\n",
        "z_3\n",
        "\\end{bmatrix} = \\begin{bmatrix}\n",
        "2 \\rho R^T1 \\\\\n",
        "1\\\\\n",
        "\\rho T \\\\\n",
        "0.1\n",
        "\\end{bmatrix}\n",
        "$$\n",
        "\n",
        "Note that we can also write $\\mu = (R^T {\\bf 1}) / T$. If we do so, the KKT matrix will be $$\n",
        "\\begin{bmatrix}\n",
        "2R^TR & 1 & \\mu & e_{11} \\\\\n",
        "1^T & 0 & 0 & 0 \\\\\n",
        "\\mu^T & 0 & 0 & 0\\\\\n",
        "e_{11}^T & 0 & 0 &0\n",
        "\\end{bmatrix} \\begin{bmatrix}\n",
        "\\omega \\\\\n",
        "z_1\\\\\n",
        "z_2 \\\\\n",
        "z_3\n",
        "\\end{bmatrix} = \\begin{bmatrix}\n",
        "2 \\rho T \\mu \\\\\n",
        "1\\\\\n",
        "\\rho\\\\\n",
        "0.1\n",
        "\\end{bmatrix}\n",
        "$$\n",
        "But the two systems are equivalent. "
      ],
      "metadata": {
        "id": "7oiB81PTN33G"
      },
      "id": "7oiB81PTN33G"
    },
    {
      "cell_type": "markdown",
      "id": "74a33cdb",
      "metadata": {
        "id": "74a33cdb"
      },
      "source": [
        "4. (7 points) Say we want to observe a certain return $\\eta$ over the entire 3-month period. Since $\\rho$ represents target average daily return, the two are related by $\\rho = \\eta / T$. For $\\eta = 5\\%, 10\\%, 20\\%$, solve the constrained linear system that you created in question 2 to find the optimal weights. For each weight vector $w$, plot the historical (average) returns vs time."
      ]
    },
    {
      "cell_type": "code",
      "source": [
        "# below is eta = 0.05 \n",
        "import numpy as np\n",
        "eta = 0.05 \n",
        "rho = eta / T \n",
        "# now, solve the KKT system \n",
        "# building the large linear system for KKT\n",
        "e_11 = np.array([0,0,0,0,0,0,0,0,0,0,1])\n",
        "zeros = np.zeros([3,3])\n",
        "ones_11 = np.ones(11)\n",
        "r_t_r = 2 * R.T @ R\n",
        "ones_61 = np.ones(61)\n",
        "r_t_1 = R.T @ ones_61 \n",
        "temp = [ones_11, r_t_1, e_11] #c_transpose\n",
        "c_transpose = np.array(temp)\n",
        "c_transpose = np.transpose(c_transpose)\n",
        "c = np.transpose(c_transpose) #c\n",
        "KKT = np.block([[r_t_r,c_transpose],\n",
        "          [c,zeros]]) #kkt matrix\n",
        "rhs_1 = r_t_1*2*rho\n",
        "rhs_2_4 = np.array([1,rho*T,0.1])\n",
        "rhs = np.concatenate((rhs_1,rhs_2_4)) # this is the right hand side \n",
        "# now, solve the linear system \n",
        "KKT_1 = np.linalg.inv(KKT)\n",
        "X = np.matmul(KKT_1,rhs) # solution of KKT linear system \n",
        "# the top 11th of elements of this matrix is \n",
        "# the vector omega we want to find. \n",
        "omega_005 = np.delete(X,[11,12,13])"
      ],
      "metadata": {
        "colab": {
          "base_uri": "https://localhost:8080/"
        },
        "id": "DB2dl8AEX4LT",
        "outputId": "02c54096-e7b5-4ef3-b159-846e5974405b"
      },
      "id": "DB2dl8AEX4LT",
      "execution_count": 135,
      "outputs": [
        {
          "output_type": "execute_result",
          "data": {
            "text/plain": [
              "array([ 0.0529,  0.044 ,  0.0079,  0.0055, -0.0833,  0.3388,  0.405 ,\n",
              "       -0.0073, -0.0216,  0.1582,  0.1   ])"
            ]
          },
          "metadata": {},
          "execution_count": 135
        }
      ]
    },
    {
      "cell_type": "code",
      "source": [
        "# now, we do this again for eta = 0.1 \n",
        "eta = 0.1 \n",
        "rho = eta / T\n",
        "rhs_1 = r_t_1*2*rho\n",
        "rhs_2_4 = np.array([1,rho*T,0.1])\n",
        "rhs = np.concatenate((rhs_1,rhs_2_4)) # this is the right hand side \n",
        "# now, solve the linear system \n",
        "KKT_1 = np.linalg.inv(KKT)\n",
        "X = np.matmul(KKT_1,rhs) # solution of KKT linear system \n",
        "# the top 11th of elements of this matrix is \n",
        "# the vector omega we want to find. \n",
        "omega_010 = np.delete(X,[11,12,13])"
      ],
      "metadata": {
        "colab": {
          "base_uri": "https://localhost:8080/"
        },
        "id": "iyzprI2zqS6k",
        "outputId": "24a600da-4ecd-4de0-ffa8-e60184ef73c4"
      },
      "id": "iyzprI2zqS6k",
      "execution_count": 137,
      "outputs": [
        {
          "output_type": "execute_result",
          "data": {
            "text/plain": [
              "array([ 0.0616, -0.0036, -0.0596, -0.0305, -0.1043,  0.2528,  0.5393,\n",
              "        0.0574, -0.0013,  0.1882,  0.1   ])"
            ]
          },
          "metadata": {},
          "execution_count": 137
        }
      ]
    },
    {
      "cell_type": "code",
      "source": [
        "# now, we do this again for eta = 0.20\n",
        "eta = 0.2\n",
        "rho = eta / T\n",
        "rhs_1 = r_t_1*2*rho\n",
        "rhs_2_4 = np.array([1,rho*T,0.1])\n",
        "rhs = np.concatenate((rhs_1,rhs_2_4)) # this is the right hand side \n",
        "# now, solve the linear system \n",
        "KKT_1 = np.linalg.inv(KKT)\n",
        "X = np.matmul(KKT_1,rhs) # solution of KKT linear system \n",
        "# the top 11th of elements of this matrix is \n",
        "# the vector omega we want to find. \n",
        "omega_020 = np.delete(X,[11,12,13]) "
      ],
      "metadata": {
        "colab": {
          "base_uri": "https://localhost:8080/"
        },
        "id": "aYT5EG29q12S",
        "outputId": "56e8efa2-0940-4b54-f59f-4701d8e862db"
      },
      "id": "aYT5EG29q12S",
      "execution_count": 139,
      "outputs": [
        {
          "output_type": "execute_result",
          "data": {
            "text/plain": [
              "array([ 0.0789, -0.0988, -0.1947, -0.1023, -0.1463,  0.0807,  0.808 ,\n",
              "        0.1868,  0.0394,  0.2483,  0.1   ])"
            ]
          },
          "metadata": {},
          "execution_count": 139
        }
      ]
    },
    {
      "cell_type": "code",
      "source": [
        "# now, we have accquired three normalized weights omega for eta = 0.05,0.1,0.2\n",
        "# we then plot the historical return vs time\n",
        "return_005 = R @ omega_005 #daily return of 005\n",
        "return_010 = R @ omega_010 #daily return of 010\n",
        "return_020 = R @ omega_020 #daily return of 020\n",
        "# now calculate the calculate the daily return array \n",
        "sum_005 = 0\n",
        "sum_010 = 0 \n",
        "sum_020 = 0 \n",
        "avg_005 = np.zeros(61) #average return array \n",
        "avg_010 = np.zeros(61)\n",
        "avg_020 = np.zeros(61)\n",
        "for i in range(T):\n",
        "  sum_005 = sum_005 + return_005[i]\n",
        "  avg_005[i] = sum_005/(1+i)\n",
        "  sum_010 = sum_010 + return_010[i]\n",
        "  avg_010[i] = sum_010/(1+i)\n",
        "  sum_020 = sum_020 + return_020[i]\n",
        "  avg_020[i] = sum_020/(1+i)\n",
        "plt.plot(avg_005,label='eta = 0.05')\n",
        "plt.plot(avg_010,label='eta = 0.10')\n",
        "plt.plot(avg_020,label='eta = 0.20')\n",
        "plt.xlabel('average return')\n",
        "plt.ylabel('Time')\n",
        "plt.legend()\n",
        "plt.show()"
      ],
      "metadata": {
        "colab": {
          "base_uri": "https://localhost:8080/",
          "height": 449
        },
        "id": "a6TOwqRArBrT",
        "outputId": "7a79eb30-21ad-4404-ef9e-01b1f90097b1"
      },
      "id": "a6TOwqRArBrT",
      "execution_count": 150,
      "outputs": [
        {
          "output_type": "display_data",
          "data": {
            "text/plain": [
              "<Figure size 640x480 with 1 Axes>"
            ],
            "image/png": "[encoded data removed]"
          },
          "metadata": {}
        }
      ]
    },
    {
      "cell_type": "markdown",
      "id": "a9208c3c",
      "metadata": {
        "id": "a9208c3c"
      },
      "source": [
        "### Part B: Linear programming (25 points)"
      ]
    },
    {
      "cell_type": "markdown",
      "id": "9940a06f",
      "metadata": {
        "id": "9940a06f"
      },
      "source": [
        "For this part, rather than setting a target mean return, we aim to minimize the risk-return tradeoff with risk-aversion parameter $\\lambda > 0$. In particular, we will consider $\\lVert Rw - (\\mu^T w) {\\bf 1} \\rVert_1/T$ as a proxy for the risk, instead of using the risk definition from part A. Also, we will only consider long portfolios, i.e. without short-selling. "
      ]
    },
    {
      "cell_type": "markdown",
      "id": "bff48007-5763-4a9f-8fdb-c51bfef47416",
      "metadata": {
        "id": "bff48007-5763-4a9f-8fdb-c51bfef47416"
      },
      "source": [
        "5. (5 points) Formulate the above problem of finding the optimal normalized weights as a piecewise linear optimization problem (you can keep the norm expressions explicit for now)"
      ]
    },
    {
      "cell_type": "markdown",
      "source": [
        "$Q5$\n",
        "\n",
        "We can now formulate the question as \n",
        "$$ \n",
        "\\begin{array}{ll}\n",
        "&\\\\\n",
        "\\mbox{minimize} & -\\mu^T \\omega + \\lambda \\lVert R\\omega - (\\mu^T \\omega ){\\bf 1}\\rVert_1 / T \\\\\n",
        "\\text{subject to} & {\\bf 1}^T \\omega = 1\\\\\n",
        "& \\omega \\ge 0\n",
        "&\\\\\n",
        "\\end{array}\n",
        "$$ "
      ],
      "metadata": {
        "id": "NnT4rZ15yTAJ"
      },
      "id": "NnT4rZ15yTAJ"
    },
    {
      "cell_type": "markdown",
      "id": "078a8967",
      "metadata": {
        "id": "078a8967"
      },
      "source": [
        "6. (5 points) Formulate this in CVXPY. For 100 values of $\\lambda$, logarithmically spaced in the range $[10^{-1}, 10^{2}]$, solve the problem. For each optimal $w$, plot the average daily historical return vs risk for varying $\\lambda$.\n",
        "\n",
        "    **Note:** If you choose to use a `cp.Parameter()` for $\\lambda$, you will need to pass the flag `nonneg=True` to enforce it to be nonnegative. Also, you can use a `np.logspace()` to create the logarithmically spaced $\\lambda$ values."
      ]
    },
    {
      "cell_type": "markdown",
      "source": [
        "**Q6**"
      ],
      "metadata": {
        "id": "H-FjzwUu1ue8"
      },
      "id": "H-FjzwUu1ue8"
    },
    {
      "cell_type": "code",
      "source": [
        "# Q6\n",
        "# solve this in CVXPY \n",
        "lambda_arr = np.logspace(-1,2,num = 100) #first create 100-lambda array\n",
        "risk_arr = np.zeros(100)\n",
        "return_arr = np.zeros(100)\n",
        "for i in range(100):\n",
        "  x = cp.Variable(11)\n",
        "  ones_61 = np.ones(T)\n",
        "  ones_11 = np.ones(11)\n",
        "  objective = (-mu.T @ x + lambda_arr[i] * cp.norm(R @ x - (mu.T@x)*ones_61, 1)/T) #define the objective\n",
        "  constraints = [ones_11.T @ x == 1, x >= 0] #two constraints \n",
        "  problem = cp.Problem(cp.Minimize(objective),constraints)\n",
        "  problem.solve()\n",
        "  return_arr[i] = mu.T @ x.value\n",
        "  risk_arr[i] = (objective.value + return_arr[i])/(lambda_arr[i]) # we derive this from the objective equation \n",
        "plt.plot(risk_arr,return_arr)\n",
        "plt.xlabel('risk')\n",
        "plt.ylabel('daily return')\n",
        "plt.show()"
      ],
      "metadata": {
        "colab": {
          "base_uri": "https://localhost:8080/",
          "height": 449
        },
        "id": "DCiWl3zl1PeR",
        "outputId": "34850dd1-3ee1-4a7c-f2ed-a47d5d4c6227"
      },
      "id": "DCiWl3zl1PeR",
      "execution_count": 203,
      "outputs": [
        {
          "output_type": "display_data",
          "data": {
            "text/plain": [
              "<Figure size 640x480 with 1 Axes>"
            ],
            "image/png": "[encoded data removed]"
          },
          "metadata": {}
        }
      ]
    },
    {
      "cell_type": "markdown",
      "id": "7bbdc911",
      "metadata": {
        "id": "7bbdc911"
      },
      "source": [
        "7. (5 points) Write this problem as an LP."
      ]
    },
    {
      "cell_type": "markdown",
      "source": [
        "$Q7$\n",
        "\n",
        "We formulat this problem as LP in the following: \n",
        "\n",
        "$$ \n",
        "\\begin{array}{ll}\n",
        "&\\\\\n",
        "\\mbox{minimize} & -\\mu^T \\omega + (\\lambda / T) {\\bf 1}^Tv \\\\\n",
        "\\text{subject to} & {\\bf 1}^T \\omega = 1\\\\\n",
        "& \\omega \\ge 0 \\\\\n",
        "&  R\\omega - (\\mu^T \\omega ){\\bf 1}\\leq v\\\\\n",
        "&  -(R\\omega - (\\mu^T \\omega ){\\bf 1}) \\leq v\n",
        "&\\\\\n",
        "\\end{array}\n",
        "$$ "
      ],
      "metadata": {
        "id": "_jvFzM3ODI7W"
      },
      "id": "_jvFzM3ODI7W"
    },
    {
      "cell_type": "markdown",
      "id": "2797f5c7",
      "metadata": {
        "id": "2797f5c7"
      },
      "source": [
        "8. (5 points) Take the dual of the LP you wrote in question 7. \n",
        "    \n",
        "you can use the identity $ (\\mu^T w) {\\bf 1} = Sw $ where \n",
        "$$\n",
        "    S = \\begin{bmatrix}\n",
        "           - & \\mu^T & - \\\\\n",
        "             & \\vdots &  \\\\\n",
        "           - & \\mu^T & -\n",
        "           \\end{bmatrix}. \n",
        "$$"
      ]
    },
    {
      "cell_type": "markdown",
      "id": "a3ccb40d",
      "metadata": {
        "id": "a3ccb40d"
      },
      "source": [
        "9. (5 points) Formulate the dual problem with $\\lambda=1$ and solve it in CVXPY. Print the value of the dual variable that corresponds to the primal constraint $w \\geq 0$. What does it tell you about the optimal primal variable $w$ and the corresponding stock weights in the portfolio?"
      ]
    },
    {
      "cell_type": "code",
      "source": [
        "# Q9 Borrows this from Q6, and directly find the dual. \n",
        "# solve this in CVXPY \n",
        "x = cp.Variable(11)\n",
        "lambda_1 = 1\n",
        "ones_61 = np.ones(T)\n",
        "ones_11 = np.ones(11)\n",
        "objective = (-mu.T @ x +  cp.norm(R @ x - (mu.T@x)*ones_61, 1)/T) #define the objective, set lambda = 1 \n",
        "constraints = [ones_11.T @ x == 1, x >= 0] #two constraints \n",
        "problem = cp.Problem(cp.Minimize(objective),constraints)\n",
        "problem.solve()\n",
        "print(\"A dual solution that corresponds to omega >= 0 is\")\n",
        "print(problem.constraints[1].dual_value) #[1] because omega >= 0 is the second constraint\n",
        "print(\"The primal solution is\") \n",
        "print(x.value)"
      ],
      "metadata": {
        "colab": {
          "base_uri": "https://localhost:8080/"
        },
        "id": "2c1rbaXLJosN",
        "outputId": "10bf4b35-2871-40df-d231-a2377a20a13a"
      },
      "id": "2c1rbaXLJosN",
      "execution_count": 212,
      "outputs": [
        {
          "output_type": "stream",
          "name": "stdout",
          "text": [
            "A dual solution that corresponds to omega >= 0 is\n",
            "[0.     0.0026 0.0056 0.0033 0.003  0.     0.     0.     0.0003 0.\n",
            " 0.0019]\n",
            "The primal solution is\n",
            "[0.0485 0.     0.     0.     0.     0.221  0.5713 0.0523 0.     0.1069\n",
            " 0.    ]\n"
          ]
        }
      ]
    },
    {
      "cell_type": "markdown",
      "source": [
        "Due to the complementary slackness, optimal primal $\\omega_i \\neq 0$ , when dual solution equals to 0, and $\\omega = 0$ when the dual solution $ \\neq 0$, for $i$ in range (11). We can observe that from above. That means if we choose to long some stocks in the primal formulation, we will not put any weights to those stocks in the dual formulation. Nevertheless, the optimal value of the two formulation should be the same, also due to the argument of complementary slackness. "
      ],
      "metadata": {
        "id": "hMj94ZWWLUdJ"
      },
      "id": "hMj94ZWWLUdJ"
    },
    {
      "cell_type": "markdown",
      "id": "0f60e228",
      "metadata": {
        "id": "0f60e228"
      },
      "source": [
        "### Part C: Integer programming for sparse allocations (25 points)"
      ]
    },
    {
      "cell_type": "markdown",
      "id": "ce5bb830",
      "metadata": {
        "id": "ce5bb830"
      },
      "source": [
        "Consider, again, the risk-return trade off minimization problem with the 1-norm defined in Part B. Now, suppose that we are prohibited from holding more than $k$ stocks in our porfolio (i.e. $k < n$)."
      ]
    },
    {
      "cell_type": "markdown",
      "id": "07832f2d",
      "metadata": {
        "id": "07832f2d"
      },
      "source": [
        "10. (6 points) Formulate the new constraint in terms of the *cardinality* of $w$. Then, formulate such constraints using a big-$M$ formulation and add them to the problem. What is the smallest value of $M$ that you can use to encode the cardinality constraints?  "
      ]
    },
    {
      "cell_type": "markdown",
      "source": [
        "$Q10$\n",
        "\n",
        "The new constraint will be $\\text{card}\\omega \\leq k$ which is equivalent to $\\lVert \\omega\\rVert_0 \\leq k$ Now, using the big-M formulation and add it to the problem, we get the following: \n",
        "\n",
        "$$ \n",
        "\\begin{array}{ll}\n",
        "&\\\\\n",
        "\\mbox{minimize} & -\\mu^T \\omega + \\lambda \\lVert R\\omega - (\\mu^T \\omega ){\\bf 1}\\rVert_1 / T \\\\\n",
        "\\text{subject to} & {\\bf 1}^T \\omega = 1\\\\\n",
        "& \\omega \\ge 0 \\\\\n",
        "& \\sum_{i=1}^{11} y_{i} \\leq k \\ \\\\ \n",
        "& -My_i \\leq \\omega_i \\leq My_i, \\hspace{0.5cm} i = 1,2,...,11 \\\\\n",
        "& y_i \\in \\{0,1\\}\\\\\n",
        "&\\\\\n",
        "\\end{array}\n",
        "$$ \n",
        "\n",
        "**The smallest Big-M we can use is 1**. Since the constraint ${\\bf 1}^T \\omega = 1, \\omega \\ge 0$ indicate that the largest value omega can take is 1."
      ],
      "metadata": {
        "id": "C6HKfCnhOKH0"
      },
      "id": "C6HKfCnhOKH0"
    },
    {
      "cell_type": "markdown",
      "id": "6240df37",
      "metadata": {
        "id": "6240df37"
      },
      "source": [
        "11. (7 points) Solve the new integer program with $\\lambda = 10$ and $k=5$. Print out the optimal objective value. For the optimal solution, which stocks have nonzero weight? "
      ]
    },
    {
      "cell_type": "code",
      "source": [
        "pip install gurobipy"
      ],
      "metadata": {
        "colab": {
          "base_uri": "https://localhost:8080/"
        },
        "id": "bKiuCKB-V65L",
        "outputId": "0dfd6235-1101-45f3-fd1d-23438cb824f8"
      },
      "id": "bKiuCKB-V65L",
      "execution_count": 213,
      "outputs": [
        {
          "output_type": "stream",
          "name": "stdout",
          "text": [
            "Looking in indexes: https://pypi.org/simple, https://us-python.pkg.dev/colab-wheels/public/simple/\n",
            "Collecting gurobipy\n",
            "  Downloading gurobipy-10.0.1-cp310-cp310-manylinux2014_x86_64.whl (12.7 MB)\n",
            "\u001b[2K     \u001b[90m━━━━━━━━━━━━━━━━━━━━━━━━━━━━━━━━━━━━━━━━\u001b[0m \u001b[32m12.7/12.7 MB\u001b[0m \u001b[31m42.7 MB/s\u001b[0m eta \u001b[36m0:00:00\u001b[0m\n",
            "\u001b[?25hInstalling collected packages: gurobipy\n",
            "Successfully installed gurobipy-10.0.1\n"
          ]
        }
      ]
    },
    {
      "cell_type": "code",
      "source": [
        "# now add the cardinality constraint into our program \n",
        "x = cp.Variable(11)\n",
        "k = 5\n",
        "ones_61 = np.ones(T)\n",
        "ones_11 = np.ones(11)\n",
        "#define the objective, set lambda = 10\n",
        "objective = (-mu.T @ x +  10*cp.norm(R @ x - (mu.T@x)*ones_61, 1)/T) \n",
        "y = cp.Variable(11, boolean=True) #define the boolean variable y \n",
        "#add the cardinality constraint\n",
        "constraints = [ones_11.T @ x == 1, x >= 0,ones_11.T @ y <= k, x <= y, x >= -y] \n",
        "problem = cp.Problem(cp.Minimize(objective),constraints)\n",
        "problem.solve()\n",
        "print(\"The objective value is\")\n",
        "print(problem.value) \n",
        "print(\"The optimal solution is\") \n",
        "print(x.value) "
      ],
      "metadata": {
        "colab": {
          "base_uri": "https://localhost:8080/"
        },
        "id": "F6C9Yf_yWHzQ",
        "outputId": "be853f25-8416-47a5-ad87-ad99321567b1"
      },
      "id": "F6C9Yf_yWHzQ",
      "execution_count": 220,
      "outputs": [
        {
          "output_type": "stream",
          "name": "stdout",
          "text": [
            "The objective value is\n",
            "0.04599417261421225\n",
            "The optimal solution is\n",
            "[ 0.0727 -0.     -0.     -0.     -0.      0.3587  0.4093  0.0416 -0.\n",
            "  0.1177 -0.    ]\n"
          ]
        }
      ]
    },
    {
      "cell_type": "markdown",
      "source": [
        "**AMD, K, KO, META, SHEL** have nonzero weight. "
      ],
      "metadata": {
        "id": "_D9W65f8Y54t"
      },
      "id": "_D9W65f8Y54t"
    },
    {
      "cell_type": "markdown",
      "id": "6ab1f906",
      "metadata": {
        "id": "6ab1f906"
      },
      "source": [
        "12. (6 points) Relax the integrality constraints from your formulation in question 11 and solve the corresponding problem in CVXPY. Print out the optimal objective value. For the optimal solution, which stocks have nonzero weight? To account for numerical issues, we will say that a component $w_i$ is nonzero if it is larger than $10^{-8}$."
      ]
    },
    {
      "cell_type": "markdown",
      "source": [
        "$Q12$\n",
        "\n",
        "Now, we relax the integrality constraints, so the question becomes the following: \n",
        "\n",
        "$$ \n",
        "\\begin{array}{ll}\n",
        "&\\\\\n",
        "\\mbox{minimize} & -\\mu^T \\omega + 10 \\lVert R\\omega - (\\mu^T \\omega ){\\bf 1}\\rVert_1 / T \\\\\n",
        "\\text{subject to} & {\\bf 1}^T \\omega = 1\\\\\n",
        "& \\omega \\ge 0 \\\\\n",
        "& {\\bf 1}^Ty \\leq 5 \\ \\\\ \n",
        "& -My_i \\leq \\omega_i \\leq My_i, \\hspace{0.5cm} i = 1,2,...,11 \\\\\n",
        "& M = 1\n",
        "&\\\\\n",
        "\\end{array}\n",
        "$$ "
      ],
      "metadata": {
        "id": "b5q3i_6AZ5dX"
      },
      "id": "b5q3i_6AZ5dX"
    },
    {
      "cell_type": "code",
      "source": [
        "# now solve the relaxiation problem in CVXPY \n",
        "x = cp.Variable(11)\n",
        "y = cp.Variable(11) #remove the integer constraint. \n",
        "k = 5\n",
        "ones_61 = np.ones(T)\n",
        "ones_11 = np.ones(11)\n",
        "#define the objective, set lambda = 10\n",
        "objective = (-mu.T @ x +  10*cp.norm(R @ x - (mu.T@x)*ones_61, 1)/T) \n",
        "constraints = [ones_11.T @ x == 1, x >= 0,ones_11.T @ y <= k, x <= y, x >= -y] \n",
        "problem = cp.Problem(cp.Minimize(objective),constraints)\n",
        "problem.solve()\n",
        "print(\"The objective value is\")\n",
        "print(problem.value) \n",
        "print(\"The optimal solution is\") \n",
        "print(x.value) "
      ],
      "metadata": {
        "colab": {
          "base_uri": "https://localhost:8080/"
        },
        "id": "_NLBj8Gjcrz0",
        "outputId": "80ed585c-729e-4829-d972-9be8384e11b8"
      },
      "id": "_NLBj8Gjcrz0",
      "execution_count": 221,
      "outputs": [
        {
          "output_type": "stream",
          "name": "stdout",
          "text": [
            "The objective value is\n",
            "0.04591573865619526\n",
            "The optimal solution is\n",
            "[0.0503 0.     0.     0.     0.     0.2468 0.5084 0.0468 0.0483 0.0993\n",
            " 0.    ]\n"
          ]
        }
      ]
    },
    {
      "cell_type": "markdown",
      "source": [
        "**Now, AMD, SHEL, NKE, META, KO, and K**, 6 in total, have nonzero weights. \n"
      ],
      "metadata": {
        "id": "fu0zddTwdduF"
      },
      "id": "fu0zddTwdduF"
    },
    {
      "cell_type": "markdown",
      "id": "50fe901c",
      "metadata": {
        "id": "50fe901c"
      },
      "source": [
        "13. (6 points) A common way to relax cardinality constraints is to replace it directly with the 1-norm. Perform this relaxation and solve the corresponding problem in CVXPY. Print out the optimal objective value and solution. Did either of these relaxations (this one or the one in question 12) give a better bound on the objective value? Explain your answer."
      ]
    },
    {
      "cell_type": "markdown",
      "source": [
        "$Q13$\n",
        "\n",
        "After the relaxation, the problem becomes the following: \n",
        "$$ \n",
        "\\begin{array}{ll}\n",
        "&\\\\\n",
        "\\mbox{minimize} & -\\mu^T \\omega + 10 \\lVert R\\omega - (\\mu^T \\omega ){\\bf 1}\\rVert_1 / T \\\\\n",
        "\\text{subject to} & {\\bf 1}^T \\omega = 1\\\\\n",
        "& \\omega \\ge 0 \\\\\n",
        "& \\lVert \\omega \\rVert_1 \\leq 5\n",
        "&\\\\\n",
        "\\end{array}\n",
        "$$ "
      ],
      "metadata": {
        "id": "q-_1WEJ-eyjC"
      },
      "id": "q-_1WEJ-eyjC"
    },
    {
      "cell_type": "code",
      "source": [
        "# solve this in CVXPY\n",
        "x = cp.Variable(11)\n",
        "y = cp.Variable(11) #remove the integer constraint. \n",
        "k = 5\n",
        "ones_61 = np.ones(T)\n",
        "ones_11 = np.ones(11)\n",
        "#define the objective, set lambda = 10\n",
        "objective = (-mu.T @ x +  10*cp.norm(R @ x - (mu.T@x)*ones_61, 1)/T) \n",
        "constraints = [ones_11.T @ x == 1, x >= 0,cp.norm(x,1)<= 5] \n",
        "problem = cp.Problem(cp.Minimize(objective),constraints)\n",
        "problem.solve()\n",
        "print(\"The objective value is\")\n",
        "print(problem.value) \n",
        "print(\"The optimal solution is\") \n",
        "print(x.value) "
      ],
      "metadata": {
        "colab": {
          "base_uri": "https://localhost:8080/"
        },
        "id": "hpRUveksfod6",
        "outputId": "9ae30d9d-50c0-4b5a-9c4b-8cfd1feaddba"
      },
      "id": "hpRUveksfod6",
      "execution_count": 226,
      "outputs": [
        {
          "output_type": "stream",
          "name": "stdout",
          "text": [
            "The objective value is\n",
            "0.045915738656195235\n",
            "The optimal solution is\n",
            "[0.0503 0.     0.     0.     0.     0.2468 0.5084 0.0468 0.0483 0.0993\n",
            " 0.    ]\n"
          ]
        }
      ]
    },
    {
      "cell_type": "markdown",
      "source": [
        "**Still, AMD, SHEL, NKE, META, KO, and K**, 6 in total, have nonzero weights.Both objective values are smaller than the integer LP so both had a better , lower bound. This makes sense, since the relaxation of the integer LP is very likely to expand the feasible region (which means less constraints), and therefore give us a better value usually. Only in the luckiest case, where the optimal solution of the relaxed LP falls on an integer verte, the integer programming can get a bound as good as the relaxed ones'. "
      ],
      "metadata": {
        "id": "XkaiqYq6gTJZ"
      },
      "id": "XkaiqYq6gTJZ"
    },
    {
      "cell_type": "markdown",
      "id": "6e559fab",
      "metadata": {
        "id": "6e559fab"
      },
      "source": [
        "### Part D: Integer programming for sparse trades (25 points)"
      ]
    },
    {
      "cell_type": "markdown",
      "id": "2f061f31",
      "metadata": {
        "id": "2f061f31"
      },
      "source": [
        "Consider, again, the risk-return trade off minimization problem from part B. In this part, suppose that we have a current portfolio allocation $w^{\\rm cur}= (1/n){\\bf 1}$, i.e., a uniform portfolio with equal weight in all stocks. With the historical data, we want to minimize the risk-return tradeoff, while, at the same time, penalizing trades. In fact, trades can turn out quite expensive if performed too often.\n",
        "\n",
        "This means we would like to penalize difference between the new portfolio weights and the current ones, i.e., $w - w^{\\rm cur}$. In particular, we would like to penalize the number of nonzeros in that difference, which correspond to individual trades. "
      ]
    },
    {
      "cell_type": "markdown",
      "id": "dadaa2ca-86e1-41ff-9091-c2334d322f89",
      "metadata": {
        "id": "dadaa2ca-86e1-41ff-9091-c2334d322f89"
      },
      "source": [
        "14. (6 points) Adjust the problem to enforce a maximum of 5 deviations from $w^\\text{cur}$ and formulate it as a mixed-integer LP."
      ]
    },
    {
      "cell_type": "markdown",
      "source": [
        "$Q14$\n",
        "\n",
        "Since $w^{\\rm cur}= (1/n){\\bf 1}, n = 11$, $w^{\\rm cur}_i = 1/11$. Therefore, we formulate the LP as the folllwing: \n",
        "\n",
        "$$ \n",
        "\\begin{array}{ll}\n",
        "&\\\\\n",
        "\\mbox{minimize} & -\\mu^T \\omega + \\lambda \\lVert R\\omega - (\\mu^T \\omega ){\\bf 1}\\rVert_1 / T \\\\\n",
        "\\text{subject to} & {\\bf 1}^T \\omega = 1\\\\\n",
        "& \\omega \\ge 0 \\\\\n",
        "& \\sum_{i=1}^{11} y_{i} \\leq 5 \\ \\\\ \n",
        "& -My_i \\leq (\\omega_i - w^{\\rm cur}_i) = (w_i - 1/11) \\leq My_i, \\hspace{0.5cm} i = 1,2,...,11 \\\\\n",
        "& y_i \\in \\{0,1\\}\\\\\n",
        "&\\\\\n",
        "\\end{array}\n",
        "$$ \n",
        "\n",
        "We keep M here the same with Part C's M, i.e. M = 1. Now, formulate the 1-norm as an LP, we have \n",
        "$$ \n",
        "\\begin{array}{ll}\n",
        "&\\\\\n",
        "\\mbox{minimize} & -\\mu^T \\omega + \\lambda v / T \\\\\n",
        "\\text{subject to} & {\\bf 1}^T \\omega = 1\\\\\n",
        "& \\omega \\ge 0 \\\\\n",
        "& \\ R\\omega - (\\mu^T \\omega ){\\bf 1} \\leq v \\\\\n",
        "& \\ -(R\\omega - (\\mu^T \\omega )){\\bf 1}\\leq v \\\\\n",
        "& \\sum_{i=1}^{11} y_{i} \\leq 5 \\ \\\\ \n",
        "& -My_i \\leq (\\omega_i - w^{\\rm cur}_i) = (w_i - 1/11) \\leq My_i, \\hspace{0.5cm} i = 1,2,...,11 \\\\\n",
        "& y_i \\in \\{0,1\\}\\\\\n",
        "&\\\\\n",
        "\\end{array}\n",
        "$$ "
      ],
      "metadata": {
        "id": "fY79SWfdkhqm"
      },
      "id": "fY79SWfdkhqm"
    },
    {
      "cell_type": "markdown",
      "id": "de0a1289-8267-4852-a1e8-1612da75d50b",
      "metadata": {
        "id": "de0a1289-8267-4852-a1e8-1612da75d50b"
      },
      "source": [
        "15. (6 points) Solve the new problem with CVXPY with $\\lambda = 1$, print the average return and risk, and verify that $w-w^\\text{cur}$ has at most 5 nonzero values."
      ]
    },
    {
      "cell_type": "code",
      "source": [
        "# now add the new cardinality constraint into our program \n",
        "x = cp.Variable(11)\n",
        "y = cp.Variable(11, boolean=True) #define the boolean variable y \n",
        "k = 5\n",
        "ones_61 = np.ones(T)\n",
        "ones_11 = np.ones(11)\n",
        "#define the objective, set lambda = 10\n",
        "objective = (-mu.T @ x +  cp.norm(R @ x - (mu.T@x)*ones_61, 1)/T) #set lambda = 1 \n",
        "#add the cardinality constraint\n",
        "constraints = [ones_11.T @ x == 1, x >= 0,ones_11.T @ y <= k, \n",
        "               x <= y + 1/11, x >= -y + 1/11] # formulate the 1/11 constraint\n",
        "problem = cp.Problem(cp.Minimize(objective),constraints)\n",
        "problem.solve()\n",
        "print(\"The average return is\")\n",
        "print(mu.T @ x.value) \n",
        "print(\"The risk is\") \n",
        "print(problem.value + mu.T @ x.value) # we derive this from the objective formula\n",
        "print(\"The optimal weight is\")\n",
        "print(x.value)"
      ],
      "metadata": {
        "colab": {
          "base_uri": "https://localhost:8080/"
        },
        "id": "Lw1WjmuZl4XZ",
        "outputId": "1232052d-ddc3-444b-fd9c-f5887199e165"
      },
      "id": "Lw1WjmuZl4XZ",
      "execution_count": 228,
      "outputs": [
        {
          "output_type": "stream",
          "name": "stdout",
          "text": [
            "The average return is\n",
            "0.0015874813710879281\n",
            "The risk is\n",
            "0.006125723779042778\n",
            "The optimal weight is\n",
            "[ 0.0909 -0.     -0.      0.     -0.      0.0909  0.4545  0.0909  0.0909\n",
            "  0.0909  0.0909]\n"
          ]
        }
      ]
    },
    {
      "cell_type": "markdown",
      "source": [
        "**Since 1/11 = 0.0909, we can clearly verify from above that (at most) 5 (No.2,3,4,5,7) have non-zero differences.**"
      ],
      "metadata": {
        "id": "VzXwxCyKoap1"
      },
      "id": "VzXwxCyKoap1"
    },
    {
      "cell_type": "markdown",
      "id": "81f1e54d-1b83-410c-b230-4d4e25d1f9e3",
      "metadata": {
        "id": "81f1e54d-1b83-410c-b230-4d4e25d1f9e3"
      },
      "source": [
        "16. (6 points) Solving the last problem can take a long time in large dimensions. We would like to solve a similar version that induces sparsity. Replace the hard constraints in question 14 with a 1-norm penalization in the objective, weighted by coefficient $\\beta$. Formulate the problem as a LP."
      ]
    },
    {
      "cell_type": "markdown",
      "source": [
        "Now, we first formulate the problem with 1-norm.\n",
        "$$ \n",
        "\\begin{array}{ll}\n",
        "&\\\\\n",
        "\\mbox{minimize} & -\\mu^T \\omega + \\lambda \\lVert R\\omega - (\\mu^T \\omega ){\\bf 1}\\rVert_1 / T + \\beta \\lVert \\omega - \\omega^{cur}\\rVert_1 \\\\\n",
        "\\text{subject to} & {\\bf 1}^T \\omega = 1\\\\\n",
        "& \\omega \\ge 0 \\\\\n",
        "&\\\\\n",
        "\\end{array}\n",
        "$$ Now, we formulate the above into LP: \n",
        "$$ \n",
        "\\begin{array}{ll}\n",
        "&\\\\\n",
        "\\mbox{minimize} & -\\mu^T \\omega + \\lambda v / T + \\beta x\\\\\n",
        "\\text{subject to} & {\\bf 1}^T \\omega = 1\\\\\n",
        "& \\omega \\ge 0 \\\\\n",
        "& \\ R\\omega - (\\mu^T \\omega ){\\bf 1} \\leq v \\\\\n",
        "& \\ -(R\\omega - (\\mu^T \\omega )){\\bf 1}\\leq v \\\\\n",
        "& \\omega - \\omega^{cur} = \\omega - 1/11 \\leq x \\\\\n",
        "& -(\\omega - \\omega^{cur}) \\leq x \\\\\n",
        "&\\\\\n",
        "\\end{array}\n",
        "$$ "
      ],
      "metadata": {
        "id": "P5p2wHy6r9dY"
      },
      "id": "P5p2wHy6r9dY"
    },
    {
      "cell_type": "markdown",
      "id": "d78257f2",
      "metadata": {
        "id": "d78257f2"
      },
      "source": [
        "17. (7 points) Formulate the problem in CVXPY with parameters $\\lambda, \\beta$. Fix $\\lambda = .1$, and solve the problem for 100 logarithmically spaced values of $\\beta$ in the range $[10^{-3}, 10^{-2}]$. For each $\\beta$ and corresponding optimal solution $w$, plot the number of nonzero values of $w-w^{\\rm cur}$ vs. $\\beta$, with $\\beta$ on a logarithmic x axis. Again, to account for numerical issues, we will say that a component $(w-w^{\\rm cur})_i$ is nonzero if $\\lvert (w - w^{\\rm cur})_i \\rvert \\geq 10^{-7}$. What do you notice?"
      ]
    },
    {
      "cell_type": "code",
      "source": [
        "# Q17\n",
        "# solve this in CVXPY \n",
        "import math\n",
        "lambda_1 = 1 \n",
        "beta_arr = np.logspace(-3,-2,num = 100) #first create 100-beta array\n",
        "difference_arr = np.zeros(100)\n",
        "for i in range(100):\n",
        "  x = cp.Variable(11)\n",
        "  ones_61 = np.ones(T)\n",
        "  ones_11 = np.ones(11)\n",
        "  objective = (-mu.T @ x + lambda_1 * cp.norm(R @ x - (mu.T@x)*ones_61, 1)/T \n",
        "               + beta_arr[i]*cp.norm(x - 1/11*ones_11,1)) #define the objective, with different beta\n",
        "  constraints = [ones_11.T @ x == 1, x >= 0] #two constraints \n",
        "  problem = cp.Problem(cp.Minimize(objective),constraints)\n",
        "  problem.solve()\n",
        "  for j in range (11):\n",
        "    if abs(x.value[j] - 1/11) >= 10e-7:\n",
        "      difference_arr[i] = difference_arr[i] + 1\n",
        "plt.plot(beta_arr,difference_arr)\n",
        "plt.xscale('log')\n",
        "plt.xlabel('log_beta')\n",
        "plt.ylabel('difference')\n",
        "plt.show()"
      ],
      "metadata": {
        "colab": {
          "base_uri": "https://localhost:8080/",
          "height": 454
        },
        "id": "wyJV9XULuFpQ",
        "outputId": "2078f1bd-2920-44ea-e98c-e4eb94969304"
      },
      "id": "wyJV9XULuFpQ",
      "execution_count": 237,
      "outputs": [
        {
          "output_type": "display_data",
          "data": {
            "text/plain": [
              "<Figure size 640x480 with 1 Axes>"
            ],
            "image/png": "[encoded data removed]"
          },
          "metadata": {}
        }
      ]
    },
    {
      "cell_type": "markdown",
      "source": [
        "**Discoveries:** \n",
        "\n",
        "The larger the $\\beta$, the smaller the difference.This makes sense, because as $\\beta$ grows larger and larger, the punishment of trading becomes more and more serious. I also discover that to make the number of difference less or equal to 5, I can just keep $\\beta$ somewhere around 0.007,when $\\lambda = 1$, but also notice that the number of difference drops very quickly around 0.01. "
      ],
      "metadata": {
        "id": "uqUgtY3Zy8_M"
      },
      "id": "uqUgtY3Zy8_M"
    }
  ],
  "metadata": {
    "kernelspec": {
      "display_name": "Python 3 (ipykernel)",
      "language": "python",
      "name": "python3"
    },
    "language_info": {
      "codemirror_mode": {
        "name": "ipython",
        "version": 3
      },
      "file_extension": ".py",
      "mimetype": "text/x-python",
      "name": "python",
      "nbconvert_exporter": "python",
      "pygments_lexer": "ipython3",
      "version": "3.9.16"
    },
    "colab": {
      "provenance": [],
      "include_colab_link": true
    }
  },
  "nbformat": 4,
  "nbformat_minor": 5
}